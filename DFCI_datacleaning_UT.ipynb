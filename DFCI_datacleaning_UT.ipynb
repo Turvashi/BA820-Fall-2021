{
  "nbformat": 4,
  "nbformat_minor": 0,
  "metadata": {
    "colab": {
      "name": "DFCI_datacleaning_UT.ipynb",
      "provenance": [],
      "collapsed_sections": [],
      "include_colab_link": true
    },
    "kernelspec": {
      "name": "python3",
      "display_name": "Python 3"
    },
    "language_info": {
      "name": "python"
    }
  },
  "cells": [
    {
      "cell_type": "markdown",
      "metadata": {
        "id": "view-in-github",
        "colab_type": "text"
      },
      "source": [
        "<a href=\"https://colab.research.google.com/github/Turvashi/BA820-Fall-2021/blob/main/DFCI_datacleaning_UT.ipynb\" target=\"_parent\"><img src=\"https://colab.research.google.com/assets/colab-badge.svg\" alt=\"Open In Colab\"/></a>"
      ]
    },
    {
      "cell_type": "code",
      "execution_count": 1,
      "metadata": {
        "id": "nGoEBKsk83n6"
      },
      "outputs": [],
      "source": [
        "import pandas as pd\n",
        "import numpy as np\n",
        "import seaborn as sns\n",
        "import matplotlib.pyplot as plt"
      ]
    },
    {
      "cell_type": "code",
      "source": [
        "# Mounting the Drive and saving them\n",
        "from google.colab import drive\n",
        "drive.mount('/gdrive')\n",
        "\n",
        "df = pd.read_csv(\"/gdrive/Shareddrives/A5 - Capstone/Dataset_Demographics_1_6_22.csv\")\n",
        "df_q = pd.read_csv(\"/gdrive/Shareddrives/A5 - Capstone/Dataset_NPIQ_Answers_1_6_22.csv\")\n",
        "\n",
        "# #Geographic dataframe\n",
        "# df = pd.read_csv(\"/content/drive/MyDrive/DFCI(File responses)/Please upload the dataset for Team A5! Thank You! (File responses)/Dataset_Demographics_1_6_22.csv\")\n",
        "\n",
        "# #dataframe questionnaire\n",
        "# df_q = pd.read_csv(\"/content/drive/MyDrive/DFCI(File responses)/Please upload the dataset for Team A5! Thank You! (File responses)/Dataset_NPIQ_Answers_1_6_22.csv\")"
      ],
      "metadata": {
        "colab": {
          "base_uri": "https://localhost:8080/"
        },
        "id": "0zdSt8e__9p3",
        "outputId": "87f4fd54-558c-43c7-f176-48fa7773dacc"
      },
      "execution_count": 2,
      "outputs": [
        {
          "output_type": "stream",
          "name": "stdout",
          "text": [
            "Mounted at /gdrive\n"
          ]
        }
      ]
    },
    {
      "cell_type": "code",
      "source": [
        "# Calculating Patients age, and dropping the Birth Column\n",
        "df['Age'] = 2022 - df['PatientBirthDTS']\n",
        "df.drop(columns=['PatientBirthDTS'], axis = 1, inplace = True)\n",
        "\n",
        "# Replacing NULL in SelfIdentifiedGender is Not Available\n",
        "df['SelfIdentifiedGenderDSC'].replace(np.nan,'N/A', inplace = True)\n",
        "\n",
        "# If language is English, then Interpreter not required. \n",
        "# If not English and has null value, replaced to N/A\n",
        "df['PrimaryLanguageNM'].fillna('N/A', inplace = True)\n",
        "df['InterpreterRequiredFLG'].fillna(0, inplace = True)\n",
        "for i in range(len(df['InterpreterRequiredFLG'])):\n",
        "    if df['PrimaryLanguageNM'][i] == 'English':\n",
        "        if df['InterpreterRequiredFLG'][i] == 0:\n",
        "            df['InterpreterRequiredFLG'][i] == 'N'\n",
        "    elif df['PrimaryLanguageNM'][i] != 'English':\n",
        "        if df['InterpreterRequiredFLG'][i] == 0:\n",
        "            df['InterpreterRequiredFLG'][i] = 'N/A'\n",
        "\n",
        "# Race, Ethnicity, and Miles filling in Null Value\n",
        "df['RaceDSC'].replace(np.nan,'Other-Specify', inplace = True)\n",
        "df['EthnicityNM'].replace(np.nan,'Other-Specify', inplace = True)\n",
        "df['MilesFromLongwoodRange'].replace(np.nan,'N/A', inplace = True)"
      ],
      "metadata": {
        "id": "12GE2w0E9McU",
        "colab": {
          "base_uri": "https://localhost:8080/"
        },
        "outputId": "f3281fb4-d811-45b0-ba1f-485f29bc7df8"
      },
      "execution_count": 3,
      "outputs": [
        {
          "output_type": "stream",
          "name": "stderr",
          "text": [
            "/usr/local/lib/python3.7/dist-packages/ipykernel_launcher.py:18: SettingWithCopyWarning: \n",
            "A value is trying to be set on a copy of a slice from a DataFrame\n",
            "\n",
            "See the caveats in the documentation: https://pandas.pydata.org/pandas-docs/stable/user_guide/indexing.html#returning-a-view-versus-a-copy\n"
          ]
        }
      ]
    },
    {
      "cell_type": "code",
      "source": [
        "len(df_q.loc[df_q['RootQuestionnaireStatusDSC'] == 'Assigned'])"
      ],
      "metadata": {
        "colab": {
          "base_uri": "https://localhost:8080/"
        },
        "id": "sAhKLPLQXf2k",
        "outputId": "7d33c9ba-ebc7-488c-85ad-65ecf723d0db"
      },
      "execution_count": null,
      "outputs": [
        {
          "output_type": "execute_result",
          "data": {
            "text/plain": [
              "116392"
            ]
          },
          "metadata": {},
          "execution_count": 4
        }
      ]
    },
    {
      "cell_type": "code",
      "source": [
        "df_q.head()"
      ],
      "metadata": {
        "colab": {
          "base_uri": "https://localhost:8080/",
          "height": 461
        },
        "id": "Qd60qYmfQOPh",
        "outputId": "c007c797-935d-4dde-e0cd-c87b89c45823"
      },
      "execution_count": null,
      "outputs": [
        {
          "output_type": "execute_result",
          "data": {
            "text/html": [
              "\n",
              "  <div id=\"df-4faebf9e-d86c-4aa2-a711-58692d49a043\">\n",
              "    <div class=\"colab-df-container\">\n",
              "      <div>\n",
              "<style scoped>\n",
              "    .dataframe tbody tr th:only-of-type {\n",
              "        vertical-align: middle;\n",
              "    }\n",
              "\n",
              "    .dataframe tbody tr th {\n",
              "        vertical-align: top;\n",
              "    }\n",
              "\n",
              "    .dataframe thead th {\n",
              "        text-align: right;\n",
              "    }\n",
              "</style>\n",
              "<table border=\"1\" class=\"dataframe\">\n",
              "  <thead>\n",
              "    <tr style=\"text-align: right;\">\n",
              "      <th></th>\n",
              "      <th>DFCIMRN</th>\n",
              "      <th>RootQuestionnaireID</th>\n",
              "      <th>RootQuestionnaireNM</th>\n",
              "      <th>RootAnswerID</th>\n",
              "      <th>QuestionID</th>\n",
              "      <th>QuestionTXT</th>\n",
              "      <th>AnswerTXT</th>\n",
              "      <th>AnswerMethodDSC</th>\n",
              "      <th>RootQuestionnaireStatusDSC</th>\n",
              "    </tr>\n",
              "  </thead>\n",
              "  <tbody>\n",
              "    <tr>\n",
              "      <th>0</th>\n",
              "      <td>0x00000691457F4F0CE13E187B9AB4FDA6D42C86477529...</td>\n",
              "      <td>1461111101</td>\n",
              "      <td>ONC DF PATIENT INTAKE SURVEY</td>\n",
              "      <td>NaN</td>\n",
              "      <td>NaN</td>\n",
              "      <td>NaN</td>\n",
              "      <td>NaN</td>\n",
              "      <td>NaN</td>\n",
              "      <td>Assigned</td>\n",
              "    </tr>\n",
              "    <tr>\n",
              "      <th>1</th>\n",
              "      <td>0x00005CF59973A6AFAFC92F1BB42476B0395F127790FF...</td>\n",
              "      <td>1461111101</td>\n",
              "      <td>ONC DF PATIENT INTAKE SURVEY</td>\n",
              "      <td>0x366B838AD00EE751BAD3D56FD9678A27618345584B9E...</td>\n",
              "      <td>1.400002e+09</td>\n",
              "      <td>In general, please rate how well you carry out...</td>\n",
              "      <td>Excellent</td>\n",
              "      <td>MyChart</td>\n",
              "      <td>Completed</td>\n",
              "    </tr>\n",
              "    <tr>\n",
              "      <th>2</th>\n",
              "      <td>0x0000CCB6FBC0156D34FA585C68626CA1526DCEF17503...</td>\n",
              "      <td>1461111101</td>\n",
              "      <td>ONC DF PATIENT INTAKE SURVEY</td>\n",
              "      <td>NaN</td>\n",
              "      <td>NaN</td>\n",
              "      <td>NaN</td>\n",
              "      <td>NaN</td>\n",
              "      <td>NaN</td>\n",
              "      <td>Assigned</td>\n",
              "    </tr>\n",
              "    <tr>\n",
              "      <th>3</th>\n",
              "      <td>0x0000D57595EEA2C9FE1506820592427B38B3EC80A461...</td>\n",
              "      <td>1461111101</td>\n",
              "      <td>ONC DF PATIENT INTAKE SURVEY</td>\n",
              "      <td>0x4E3107557F5EAC6A6F2F229FB9A417D19338D2919136...</td>\n",
              "      <td>1.242540e+05</td>\n",
              "      <td>How confident are you filling out medical forms?</td>\n",
              "      <td>Extremely</td>\n",
              "      <td>Welcome</td>\n",
              "      <td>Completed</td>\n",
              "    </tr>\n",
              "    <tr>\n",
              "      <th>4</th>\n",
              "      <td>0x0000D57595EEA2C9FE1506820592427B38B3EC80A461...</td>\n",
              "      <td>1461111101</td>\n",
              "      <td>ONC DF PATIENT INTAKE SURVEY</td>\n",
              "      <td>0x4E3107557F5EAC6A6F2F229FB9A417D19338D2919136...</td>\n",
              "      <td>1.242550e+05</td>\n",
              "      <td>How confident are you in understanding medical...</td>\n",
              "      <td>Extremely</td>\n",
              "      <td>Welcome</td>\n",
              "      <td>Completed</td>\n",
              "    </tr>\n",
              "  </tbody>\n",
              "</table>\n",
              "</div>\n",
              "      <button class=\"colab-df-convert\" onclick=\"convertToInteractive('df-4faebf9e-d86c-4aa2-a711-58692d49a043')\"\n",
              "              title=\"Convert this dataframe to an interactive table.\"\n",
              "              style=\"display:none;\">\n",
              "        \n",
              "  <svg xmlns=\"http://www.w3.org/2000/svg\" height=\"24px\"viewBox=\"0 0 24 24\"\n",
              "       width=\"24px\">\n",
              "    <path d=\"M0 0h24v24H0V0z\" fill=\"none\"/>\n",
              "    <path d=\"M18.56 5.44l.94 2.06.94-2.06 2.06-.94-2.06-.94-.94-2.06-.94 2.06-2.06.94zm-11 1L8.5 8.5l.94-2.06 2.06-.94-2.06-.94L8.5 2.5l-.94 2.06-2.06.94zm10 10l.94 2.06.94-2.06 2.06-.94-2.06-.94-.94-2.06-.94 2.06-2.06.94z\"/><path d=\"M17.41 7.96l-1.37-1.37c-.4-.4-.92-.59-1.43-.59-.52 0-1.04.2-1.43.59L10.3 9.45l-7.72 7.72c-.78.78-.78 2.05 0 2.83L4 21.41c.39.39.9.59 1.41.59.51 0 1.02-.2 1.41-.59l7.78-7.78 2.81-2.81c.8-.78.8-2.07 0-2.86zM5.41 20L4 18.59l7.72-7.72 1.47 1.35L5.41 20z\"/>\n",
              "  </svg>\n",
              "      </button>\n",
              "      \n",
              "  <style>\n",
              "    .colab-df-container {\n",
              "      display:flex;\n",
              "      flex-wrap:wrap;\n",
              "      gap: 12px;\n",
              "    }\n",
              "\n",
              "    .colab-df-convert {\n",
              "      background-color: #E8F0FE;\n",
              "      border: none;\n",
              "      border-radius: 50%;\n",
              "      cursor: pointer;\n",
              "      display: none;\n",
              "      fill: #1967D2;\n",
              "      height: 32px;\n",
              "      padding: 0 0 0 0;\n",
              "      width: 32px;\n",
              "    }\n",
              "\n",
              "    .colab-df-convert:hover {\n",
              "      background-color: #E2EBFA;\n",
              "      box-shadow: 0px 1px 2px rgba(60, 64, 67, 0.3), 0px 1px 3px 1px rgba(60, 64, 67, 0.15);\n",
              "      fill: #174EA6;\n",
              "    }\n",
              "\n",
              "    [theme=dark] .colab-df-convert {\n",
              "      background-color: #3B4455;\n",
              "      fill: #D2E3FC;\n",
              "    }\n",
              "\n",
              "    [theme=dark] .colab-df-convert:hover {\n",
              "      background-color: #434B5C;\n",
              "      box-shadow: 0px 1px 3px 1px rgba(0, 0, 0, 0.15);\n",
              "      filter: drop-shadow(0px 1px 2px rgba(0, 0, 0, 0.3));\n",
              "      fill: #FFFFFF;\n",
              "    }\n",
              "  </style>\n",
              "\n",
              "      <script>\n",
              "        const buttonEl =\n",
              "          document.querySelector('#df-4faebf9e-d86c-4aa2-a711-58692d49a043 button.colab-df-convert');\n",
              "        buttonEl.style.display =\n",
              "          google.colab.kernel.accessAllowed ? 'block' : 'none';\n",
              "\n",
              "        async function convertToInteractive(key) {\n",
              "          const element = document.querySelector('#df-4faebf9e-d86c-4aa2-a711-58692d49a043');\n",
              "          const dataTable =\n",
              "            await google.colab.kernel.invokeFunction('convertToInteractive',\n",
              "                                                     [key], {});\n",
              "          if (!dataTable) return;\n",
              "\n",
              "          const docLinkHtml = 'Like what you see? Visit the ' +\n",
              "            '<a target=\"_blank\" href=https://colab.research.google.com/notebooks/data_table.ipynb>data table notebook</a>'\n",
              "            + ' to learn more about interactive tables.';\n",
              "          element.innerHTML = '';\n",
              "          dataTable['output_type'] = 'display_data';\n",
              "          await google.colab.output.renderOutput(dataTable, element);\n",
              "          const docLink = document.createElement('div');\n",
              "          docLink.innerHTML = docLinkHtml;\n",
              "          element.appendChild(docLink);\n",
              "        }\n",
              "      </script>\n",
              "    </div>\n",
              "  </div>\n",
              "  "
            ],
            "text/plain": [
              "                                             DFCIMRN  ...  RootQuestionnaireStatusDSC\n",
              "0  0x00000691457F4F0CE13E187B9AB4FDA6D42C86477529...  ...                    Assigned\n",
              "1  0x00005CF59973A6AFAFC92F1BB42476B0395F127790FF...  ...                   Completed\n",
              "2  0x0000CCB6FBC0156D34FA585C68626CA1526DCEF17503...  ...                    Assigned\n",
              "3  0x0000D57595EEA2C9FE1506820592427B38B3EC80A461...  ...                   Completed\n",
              "4  0x0000D57595EEA2C9FE1506820592427B38B3EC80A461...  ...                   Completed\n",
              "\n",
              "[5 rows x 9 columns]"
            ]
          },
          "metadata": {},
          "execution_count": 5
        }
      ]
    },
    {
      "cell_type": "code",
      "source": [
        "df['SelfIdentifiedGenderDSC'].unique"
      ],
      "metadata": {
        "colab": {
          "base_uri": "https://localhost:8080/"
        },
        "id": "jLvTlhQTLZYh",
        "outputId": "8c840068-fa98-4736-9e7e-0146e1224121"
      },
      "execution_count": null,
      "outputs": [
        {
          "output_type": "execute_result",
          "data": {
            "text/plain": [
              "<bound method Series.unique of 0                            N/A\n",
              "1         Choose not to disclose\n",
              "2                            N/A\n",
              "3                         Female\n",
              "4                         Female\n",
              "                   ...          \n",
              "699427                       N/A\n",
              "699428                       N/A\n",
              "699429                       N/A\n",
              "699430                       N/A\n",
              "699431                       N/A\n",
              "Name: SelfIdentifiedGenderDSC, Length: 699432, dtype: object>"
            ]
          },
          "metadata": {},
          "execution_count": 6
        }
      ]
    },
    {
      "cell_type": "code",
      "source": [
        "df.shape"
      ],
      "metadata": {
        "colab": {
          "base_uri": "https://localhost:8080/"
        },
        "id": "GYNH9fPI9xf0",
        "outputId": "1fa55aab-4d16-4e75-e6ea-a0a95ac0d68a"
      },
      "execution_count": null,
      "outputs": [
        {
          "output_type": "execute_result",
          "data": {
            "text/plain": [
              "(699432, 10)"
            ]
          },
          "metadata": {},
          "execution_count": 7
        }
      ]
    },
    {
      "cell_type": "code",
      "source": [
        "#numeric feature\n",
        "df.describe(include=[np.number])"
      ],
      "metadata": {
        "colab": {
          "base_uri": "https://localhost:8080/",
          "height": 300
        },
        "id": "JkKpkL6K9u2F",
        "outputId": "89ac9a48-b528-4d92-88e2-9a67be4a053d"
      },
      "execution_count": null,
      "outputs": [
        {
          "output_type": "execute_result",
          "data": {
            "text/html": [
              "\n",
              "  <div id=\"df-c69378ec-381d-4714-980f-299923f1956c\">\n",
              "    <div class=\"colab-df-container\">\n",
              "      <div>\n",
              "<style scoped>\n",
              "    .dataframe tbody tr th:only-of-type {\n",
              "        vertical-align: middle;\n",
              "    }\n",
              "\n",
              "    .dataframe tbody tr th {\n",
              "        vertical-align: top;\n",
              "    }\n",
              "\n",
              "    .dataframe thead th {\n",
              "        text-align: right;\n",
              "    }\n",
              "</style>\n",
              "<table border=\"1\" class=\"dataframe\">\n",
              "  <thead>\n",
              "    <tr style=\"text-align: right;\">\n",
              "      <th></th>\n",
              "      <th>Age</th>\n",
              "    </tr>\n",
              "  </thead>\n",
              "  <tbody>\n",
              "    <tr>\n",
              "      <th>count</th>\n",
              "      <td>699432.000000</td>\n",
              "    </tr>\n",
              "    <tr>\n",
              "      <th>mean</th>\n",
              "      <td>61.657762</td>\n",
              "    </tr>\n",
              "    <tr>\n",
              "      <th>std</th>\n",
              "      <td>17.717233</td>\n",
              "    </tr>\n",
              "    <tr>\n",
              "      <th>min</th>\n",
              "      <td>0.000000</td>\n",
              "    </tr>\n",
              "    <tr>\n",
              "      <th>25%</th>\n",
              "      <td>52.000000</td>\n",
              "    </tr>\n",
              "    <tr>\n",
              "      <th>50%</th>\n",
              "      <td>65.000000</td>\n",
              "    </tr>\n",
              "    <tr>\n",
              "      <th>75%</th>\n",
              "      <td>75.000000</td>\n",
              "    </tr>\n",
              "    <tr>\n",
              "      <th>max</th>\n",
              "      <td>89.000000</td>\n",
              "    </tr>\n",
              "  </tbody>\n",
              "</table>\n",
              "</div>\n",
              "      <button class=\"colab-df-convert\" onclick=\"convertToInteractive('df-c69378ec-381d-4714-980f-299923f1956c')\"\n",
              "              title=\"Convert this dataframe to an interactive table.\"\n",
              "              style=\"display:none;\">\n",
              "        \n",
              "  <svg xmlns=\"http://www.w3.org/2000/svg\" height=\"24px\"viewBox=\"0 0 24 24\"\n",
              "       width=\"24px\">\n",
              "    <path d=\"M0 0h24v24H0V0z\" fill=\"none\"/>\n",
              "    <path d=\"M18.56 5.44l.94 2.06.94-2.06 2.06-.94-2.06-.94-.94-2.06-.94 2.06-2.06.94zm-11 1L8.5 8.5l.94-2.06 2.06-.94-2.06-.94L8.5 2.5l-.94 2.06-2.06.94zm10 10l.94 2.06.94-2.06 2.06-.94-2.06-.94-.94-2.06-.94 2.06-2.06.94z\"/><path d=\"M17.41 7.96l-1.37-1.37c-.4-.4-.92-.59-1.43-.59-.52 0-1.04.2-1.43.59L10.3 9.45l-7.72 7.72c-.78.78-.78 2.05 0 2.83L4 21.41c.39.39.9.59 1.41.59.51 0 1.02-.2 1.41-.59l7.78-7.78 2.81-2.81c.8-.78.8-2.07 0-2.86zM5.41 20L4 18.59l7.72-7.72 1.47 1.35L5.41 20z\"/>\n",
              "  </svg>\n",
              "      </button>\n",
              "      \n",
              "  <style>\n",
              "    .colab-df-container {\n",
              "      display:flex;\n",
              "      flex-wrap:wrap;\n",
              "      gap: 12px;\n",
              "    }\n",
              "\n",
              "    .colab-df-convert {\n",
              "      background-color: #E8F0FE;\n",
              "      border: none;\n",
              "      border-radius: 50%;\n",
              "      cursor: pointer;\n",
              "      display: none;\n",
              "      fill: #1967D2;\n",
              "      height: 32px;\n",
              "      padding: 0 0 0 0;\n",
              "      width: 32px;\n",
              "    }\n",
              "\n",
              "    .colab-df-convert:hover {\n",
              "      background-color: #E2EBFA;\n",
              "      box-shadow: 0px 1px 2px rgba(60, 64, 67, 0.3), 0px 1px 3px 1px rgba(60, 64, 67, 0.15);\n",
              "      fill: #174EA6;\n",
              "    }\n",
              "\n",
              "    [theme=dark] .colab-df-convert {\n",
              "      background-color: #3B4455;\n",
              "      fill: #D2E3FC;\n",
              "    }\n",
              "\n",
              "    [theme=dark] .colab-df-convert:hover {\n",
              "      background-color: #434B5C;\n",
              "      box-shadow: 0px 1px 3px 1px rgba(0, 0, 0, 0.15);\n",
              "      filter: drop-shadow(0px 1px 2px rgba(0, 0, 0, 0.3));\n",
              "      fill: #FFFFFF;\n",
              "    }\n",
              "  </style>\n",
              "\n",
              "      <script>\n",
              "        const buttonEl =\n",
              "          document.querySelector('#df-c69378ec-381d-4714-980f-299923f1956c button.colab-df-convert');\n",
              "        buttonEl.style.display =\n",
              "          google.colab.kernel.accessAllowed ? 'block' : 'none';\n",
              "\n",
              "        async function convertToInteractive(key) {\n",
              "          const element = document.querySelector('#df-c69378ec-381d-4714-980f-299923f1956c');\n",
              "          const dataTable =\n",
              "            await google.colab.kernel.invokeFunction('convertToInteractive',\n",
              "                                                     [key], {});\n",
              "          if (!dataTable) return;\n",
              "\n",
              "          const docLinkHtml = 'Like what you see? Visit the ' +\n",
              "            '<a target=\"_blank\" href=https://colab.research.google.com/notebooks/data_table.ipynb>data table notebook</a>'\n",
              "            + ' to learn more about interactive tables.';\n",
              "          element.innerHTML = '';\n",
              "          dataTable['output_type'] = 'display_data';\n",
              "          await google.colab.output.renderOutput(dataTable, element);\n",
              "          const docLink = document.createElement('div');\n",
              "          docLink.innerHTML = docLinkHtml;\n",
              "          element.appendChild(docLink);\n",
              "        }\n",
              "      </script>\n",
              "    </div>\n",
              "  </div>\n",
              "  "
            ],
            "text/plain": [
              "                 Age\n",
              "count  699432.000000\n",
              "mean       61.657762\n",
              "std        17.717233\n",
              "min         0.000000\n",
              "25%        52.000000\n",
              "50%        65.000000\n",
              "75%        75.000000\n",
              "max        89.000000"
            ]
          },
          "metadata": {},
          "execution_count": 8
        }
      ]
    },
    {
      "cell_type": "code",
      "source": [
        "df.describe(include=[object])"
      ],
      "metadata": {
        "colab": {
          "base_uri": "https://localhost:8080/",
          "height": 236
        },
        "id": "soZs8Y3P95uC",
        "outputId": "cde09acd-67b2-4e0a-8032-460f4d6c572a"
      },
      "execution_count": null,
      "outputs": [
        {
          "output_type": "execute_result",
          "data": {
            "text/html": [
              "\n",
              "  <div id=\"df-210ccf19-c009-4e6f-b11f-5af7dc62f421\">\n",
              "    <div class=\"colab-df-container\">\n",
              "      <div>\n",
              "<style scoped>\n",
              "    .dataframe tbody tr th:only-of-type {\n",
              "        vertical-align: middle;\n",
              "    }\n",
              "\n",
              "    .dataframe tbody tr th {\n",
              "        vertical-align: top;\n",
              "    }\n",
              "\n",
              "    .dataframe thead th {\n",
              "        text-align: right;\n",
              "    }\n",
              "</style>\n",
              "<table border=\"1\" class=\"dataframe\">\n",
              "  <thead>\n",
              "    <tr style=\"text-align: right;\">\n",
              "      <th></th>\n",
              "      <th>DFCIMRN</th>\n",
              "      <th>GenderDSC</th>\n",
              "      <th>SelfIdentifiedGenderDSC</th>\n",
              "      <th>InterpreterRequiredFLG</th>\n",
              "      <th>PrimaryLanguageNM</th>\n",
              "      <th>RaceDSC</th>\n",
              "      <th>EthnicityNM</th>\n",
              "      <th>MyChartStatusDSC</th>\n",
              "      <th>MilesFromLongwoodRange</th>\n",
              "    </tr>\n",
              "  </thead>\n",
              "  <tbody>\n",
              "    <tr>\n",
              "      <th>count</th>\n",
              "      <td>699432</td>\n",
              "      <td>699432</td>\n",
              "      <td>699432</td>\n",
              "      <td>699432</td>\n",
              "      <td>699432</td>\n",
              "      <td>699432</td>\n",
              "      <td>699432</td>\n",
              "      <td>439673</td>\n",
              "      <td>699432</td>\n",
              "    </tr>\n",
              "    <tr>\n",
              "      <th>unique</th>\n",
              "      <td>699432</td>\n",
              "      <td>4</td>\n",
              "      <td>10</td>\n",
              "      <td>4</td>\n",
              "      <td>131</td>\n",
              "      <td>11</td>\n",
              "      <td>211</td>\n",
              "      <td>6</td>\n",
              "      <td>14</td>\n",
              "    </tr>\n",
              "    <tr>\n",
              "      <th>top</th>\n",
              "      <td>0xCD26170757F34A63A20CD26E4F68AAE35F603052D832...</td>\n",
              "      <td>Female</td>\n",
              "      <td>N/A</td>\n",
              "      <td>N</td>\n",
              "      <td>English</td>\n",
              "      <td>White or Caucasian</td>\n",
              "      <td>American</td>\n",
              "      <td>Activated</td>\n",
              "      <td>60+ mi</td>\n",
              "    </tr>\n",
              "    <tr>\n",
              "      <th>freq</th>\n",
              "      <td>1</td>\n",
              "      <td>427660</td>\n",
              "      <td>545077</td>\n",
              "      <td>450007</td>\n",
              "      <td>584426</td>\n",
              "      <td>274079</td>\n",
              "      <td>253002</td>\n",
              "      <td>253965</td>\n",
              "      <td>176404</td>\n",
              "    </tr>\n",
              "  </tbody>\n",
              "</table>\n",
              "</div>\n",
              "      <button class=\"colab-df-convert\" onclick=\"convertToInteractive('df-210ccf19-c009-4e6f-b11f-5af7dc62f421')\"\n",
              "              title=\"Convert this dataframe to an interactive table.\"\n",
              "              style=\"display:none;\">\n",
              "        \n",
              "  <svg xmlns=\"http://www.w3.org/2000/svg\" height=\"24px\"viewBox=\"0 0 24 24\"\n",
              "       width=\"24px\">\n",
              "    <path d=\"M0 0h24v24H0V0z\" fill=\"none\"/>\n",
              "    <path d=\"M18.56 5.44l.94 2.06.94-2.06 2.06-.94-2.06-.94-.94-2.06-.94 2.06-2.06.94zm-11 1L8.5 8.5l.94-2.06 2.06-.94-2.06-.94L8.5 2.5l-.94 2.06-2.06.94zm10 10l.94 2.06.94-2.06 2.06-.94-2.06-.94-.94-2.06-.94 2.06-2.06.94z\"/><path d=\"M17.41 7.96l-1.37-1.37c-.4-.4-.92-.59-1.43-.59-.52 0-1.04.2-1.43.59L10.3 9.45l-7.72 7.72c-.78.78-.78 2.05 0 2.83L4 21.41c.39.39.9.59 1.41.59.51 0 1.02-.2 1.41-.59l7.78-7.78 2.81-2.81c.8-.78.8-2.07 0-2.86zM5.41 20L4 18.59l7.72-7.72 1.47 1.35L5.41 20z\"/>\n",
              "  </svg>\n",
              "      </button>\n",
              "      \n",
              "  <style>\n",
              "    .colab-df-container {\n",
              "      display:flex;\n",
              "      flex-wrap:wrap;\n",
              "      gap: 12px;\n",
              "    }\n",
              "\n",
              "    .colab-df-convert {\n",
              "      background-color: #E8F0FE;\n",
              "      border: none;\n",
              "      border-radius: 50%;\n",
              "      cursor: pointer;\n",
              "      display: none;\n",
              "      fill: #1967D2;\n",
              "      height: 32px;\n",
              "      padding: 0 0 0 0;\n",
              "      width: 32px;\n",
              "    }\n",
              "\n",
              "    .colab-df-convert:hover {\n",
              "      background-color: #E2EBFA;\n",
              "      box-shadow: 0px 1px 2px rgba(60, 64, 67, 0.3), 0px 1px 3px 1px rgba(60, 64, 67, 0.15);\n",
              "      fill: #174EA6;\n",
              "    }\n",
              "\n",
              "    [theme=dark] .colab-df-convert {\n",
              "      background-color: #3B4455;\n",
              "      fill: #D2E3FC;\n",
              "    }\n",
              "\n",
              "    [theme=dark] .colab-df-convert:hover {\n",
              "      background-color: #434B5C;\n",
              "      box-shadow: 0px 1px 3px 1px rgba(0, 0, 0, 0.15);\n",
              "      filter: drop-shadow(0px 1px 2px rgba(0, 0, 0, 0.3));\n",
              "      fill: #FFFFFF;\n",
              "    }\n",
              "  </style>\n",
              "\n",
              "      <script>\n",
              "        const buttonEl =\n",
              "          document.querySelector('#df-210ccf19-c009-4e6f-b11f-5af7dc62f421 button.colab-df-convert');\n",
              "        buttonEl.style.display =\n",
              "          google.colab.kernel.accessAllowed ? 'block' : 'none';\n",
              "\n",
              "        async function convertToInteractive(key) {\n",
              "          const element = document.querySelector('#df-210ccf19-c009-4e6f-b11f-5af7dc62f421');\n",
              "          const dataTable =\n",
              "            await google.colab.kernel.invokeFunction('convertToInteractive',\n",
              "                                                     [key], {});\n",
              "          if (!dataTable) return;\n",
              "\n",
              "          const docLinkHtml = 'Like what you see? Visit the ' +\n",
              "            '<a target=\"_blank\" href=https://colab.research.google.com/notebooks/data_table.ipynb>data table notebook</a>'\n",
              "            + ' to learn more about interactive tables.';\n",
              "          element.innerHTML = '';\n",
              "          dataTable['output_type'] = 'display_data';\n",
              "          await google.colab.output.renderOutput(dataTable, element);\n",
              "          const docLink = document.createElement('div');\n",
              "          docLink.innerHTML = docLinkHtml;\n",
              "          element.appendChild(docLink);\n",
              "        }\n",
              "      </script>\n",
              "    </div>\n",
              "  </div>\n",
              "  "
            ],
            "text/plain": [
              "                                                  DFCIMRN  ... MilesFromLongwoodRange\n",
              "count                                              699432  ...                 699432\n",
              "unique                                             699432  ...                     14\n",
              "top     0xCD26170757F34A63A20CD26E4F68AAE35F603052D832...  ...                 60+ mi\n",
              "freq                                                    1  ...                 176404\n",
              "\n",
              "[4 rows x 9 columns]"
            ]
          },
          "metadata": {},
          "execution_count": 9
        }
      ]
    },
    {
      "cell_type": "code",
      "source": [
        "df.isnull().sum()"
      ],
      "metadata": {
        "colab": {
          "base_uri": "https://localhost:8080/"
        },
        "id": "y1-1AYnCBk4V",
        "outputId": "760f55b8-6699-4fe2-d158-1ca1181c76fa"
      },
      "execution_count": null,
      "outputs": [
        {
          "output_type": "execute_result",
          "data": {
            "text/plain": [
              "DFCIMRN                         0\n",
              "GenderDSC                       0\n",
              "SelfIdentifiedGenderDSC         0\n",
              "InterpreterRequiredFLG          0\n",
              "PrimaryLanguageNM               0\n",
              "RaceDSC                         0\n",
              "EthnicityNM                     0\n",
              "MyChartStatusDSC           259759\n",
              "MilesFromLongwoodRange          0\n",
              "Age                             0\n",
              "dtype: int64"
            ]
          },
          "metadata": {},
          "execution_count": 10
        }
      ]
    },
    {
      "cell_type": "markdown",
      "source": [
        "MyChartStatusDSC 259759 null values\n"
      ],
      "metadata": {
        "id": "X60nbOBdBwLW"
      }
    },
    {
      "cell_type": "code",
      "source": [
        "df.columns"
      ],
      "metadata": {
        "colab": {
          "base_uri": "https://localhost:8080/"
        },
        "id": "nbYcR3Ql960b",
        "outputId": "054e701e-3328-48a9-9a9f-18d7a9745bfe"
      },
      "execution_count": null,
      "outputs": [
        {
          "output_type": "execute_result",
          "data": {
            "text/plain": [
              "Index(['DFCIMRN', 'GenderDSC', 'SelfIdentifiedGenderDSC',\n",
              "       'InterpreterRequiredFLG', 'PrimaryLanguageNM', 'RaceDSC', 'EthnicityNM',\n",
              "       'MyChartStatusDSC', 'MilesFromLongwoodRange', 'Age'],\n",
              "      dtype='object')"
            ]
          },
          "metadata": {},
          "execution_count": 11
        }
      ]
    },
    {
      "cell_type": "code",
      "source": [
        "df.nunique()"
      ],
      "metadata": {
        "colab": {
          "base_uri": "https://localhost:8080/"
        },
        "id": "td1A57OFBG0S",
        "outputId": "bb528acf-eeed-4b22-af7e-e4e7fe65722b"
      },
      "execution_count": null,
      "outputs": [
        {
          "output_type": "execute_result",
          "data": {
            "text/plain": [
              "DFCIMRN                    699432\n",
              "GenderDSC                       4\n",
              "SelfIdentifiedGenderDSC        10\n",
              "InterpreterRequiredFLG          4\n",
              "PrimaryLanguageNM             131\n",
              "RaceDSC                        11\n",
              "EthnicityNM                   211\n",
              "MyChartStatusDSC                6\n",
              "MilesFromLongwoodRange         14\n",
              "Age                            90\n",
              "dtype: int64"
            ]
          },
          "metadata": {},
          "execution_count": 12
        }
      ]
    },
    {
      "cell_type": "code",
      "source": [
        "#check unique values in each column\n",
        "{c:df[c].unique() for c in df.columns}"
      ],
      "metadata": {
        "colab": {
          "base_uri": "https://localhost:8080/"
        },
        "id": "x2fBaNGe-6B9",
        "outputId": "01015149-dbb3-486e-ccad-0318910feacb"
      },
      "execution_count": null,
      "outputs": [
        {
          "output_type": "execute_result",
          "data": {
            "text/plain": [
              "{'Age': array([72, 74, 62, 26, 56, 64, 44, 79, 39, 38, 80, 78, 69, 54, 70, 50, 63,\n",
              "        87, 66, 75, 60, 41, 68, 61, 55, 40, 28, 29, 52, 81, 71, 76, 88, 32,\n",
              "        21, 53, 23, 86, 36, 77, 20, 67, 84, 59, 12, 49, 65, 10, 73, 58, 31,\n",
              "        57, 47, 85, 51, 34,  3,  2, 37, 43, 19, 82, 46, 27, 83, 30, 17, 35,\n",
              "        16, 89, 45, 42, 48, 15,  1, 22, 33,  7,  9, 24,  8,  6, 25, 11, 13,\n",
              "        14, 18,  4,  5,  0]),\n",
              " 'DFCIMRN': array(['0xF357D6D5BAFA16FB147BE4E26B53962308784F2340E508F50EEFCC8D221E22D1',\n",
              "        '0xCAB615644AA56EFDA9BBABE00E92F4C8F71217FB7E9B3C4C8625CCD4AFD71301',\n",
              "        '0x9E5FB55AFEE474BB1D6EF40EA894204D3F599F446CA5C49369AC2E04A15AFA78',\n",
              "        ...,\n",
              "        '0xF72F20379332189B8AAD37B17F98790C32B11E204B39C69E094812DB2B215BB8',\n",
              "        '0x7B8763532D1761055AF2B144F373EC756BD66596546108A31F10571B9385AF61',\n",
              "        '0x4028934E0F930E997B8403A8726962359B362A4A6B54F62206FC3E027D6F8023'],\n",
              "       dtype=object),\n",
              " 'EthnicityNM': array(['Chinese', 'Unavailable', 'Other-Specify', 'American', 'Declined',\n",
              "        'European-Greek', 'European', 'Puerto Rican', 'African American',\n",
              "        'European-German', 'Russian', 'Middle Eastern-Egyptian',\n",
              "        'Portuguese', 'Cuban', 'Dominican', 'Vietnamese',\n",
              "        'Eastern European-Armenian', 'Mexican', 'Asian Indian',\n",
              "        'European-Irish', 'Asian-Indonesian', 'European-Dutch',\n",
              "        'European-Polish', 'Cape Verdean', 'European-Italian',\n",
              "        'Caribbean Island', 'Spanish', 'Colombian', 'Chilean',\n",
              "        'South American-Venezuelan', 'Middle Eastern-Emirati', 'Brazilian',\n",
              "        'Middle Eastern-Syrian', 'European-Scottish', 'Honduran',\n",
              "        'Middle Eastern-Saudi', 'Italian',\n",
              "        'Caribbean Island-Dominica Islander', 'Barbadian',\n",
              "        'Middle Eastern-Kuwaiti', 'Hispanic Or Latino', 'Cambodian',\n",
              "        'Greek', 'European-Spanish', 'Haitian', 'European-French',\n",
              "        'Guatemalan', 'Peruvian', 'Scottish', 'European-Armenian',\n",
              "        'Korean', 'Caribbean Island-Trinidadian', 'Irish',\n",
              "        'European-English', 'Eastern European', 'South American-Indian',\n",
              "        'European-Swiss', 'South American-Peruvian', 'Asian-Taiwanese',\n",
              "        'European-Czech', 'Albanian', 'African-Ghanaian',\n",
              "        'Caribbean Island-Jamaican', 'Eastern European-Polish', 'Iranian',\n",
              "        'Asian-Nepalese', 'Filipino', 'French', 'European-Ukranian',\n",
              "        'German', 'Syrian', 'Middle Eastern-Israeli', 'Japanese',\n",
              "        'African-Sierra Leonian', 'Mexican, Mexican American, Chicano',\n",
              "        'Middle Eastern or North African', 'Finnish', 'Salvadoran',\n",
              "        'Emirati', 'South American-Ecuadorian', 'English',\n",
              "        'Eastern European-Ukranian', 'African', 'South American',\n",
              "        'Jewish (Ashkenazi)', 'Jamaican', 'Central American-Costa Rican',\n",
              "        'South American-Chilean', 'African-Nigerian', 'Saudi',\n",
              "        'Middle Eastern-Lebanese', 'European-Finnish',\n",
              "        'European-Norwegian', 'Israeli', 'Asian',\n",
              "        'Caribbean Island-Barbadian', 'African-Moroccan',\n",
              "        'Central American-Nicaraguan', 'South American-Argentinian',\n",
              "        'Kuwaiti', 'South American-Uruguayan', 'Canadian',\n",
              "        'Middle Eastern-Iranian', 'Ukranian', 'Nigerian', 'Trinidadian',\n",
              "        'Polish', 'African-Ethiopian', 'Asian-Pakistani', 'Ecuadorian',\n",
              "        'Laotian', 'Swiss', 'Eastern European-Croatian', 'Lebanese',\n",
              "        'Danish', 'Argentinian', 'European-Swedish', 'European-Danish',\n",
              "        'Middle Eastern-Palestinian', 'Swedish',\n",
              "        'Eastern European-Albanian', 'African-Liberian',\n",
              "        'Central American-Panamanian', 'African-Somalian', 'Belgian',\n",
              "        'Jewish (not specified)', 'Liberian', 'Egyptian', 'Dutch',\n",
              "        'Asian-Hmong', 'European-Croatian', 'Asian-Bangladeshi',\n",
              "        'South American-Bolivian', 'Venezuelan', 'Armenian',\n",
              "        'Dominica Islander', 'Middle Eastern-Iraqi', 'European-Albanian',\n",
              "        'Pakistani', 'Thai', 'European-Belgian', 'Qatari', 'Moroccan',\n",
              "        'Czech', 'South American-Guyanese', 'Asian-Thai',\n",
              "        'Caribbean Island-West Indian', 'Assyrian',\n",
              "        'Middle Eastern-Jordanian', 'Norwegian', 'Bangladeshi', 'Bosnian',\n",
              "        'Asian-Sri Lankan', 'European-Bosnian', 'Middle Eastern-Bahraini',\n",
              "        'Bolivian', 'Jewish (Sephardic)', 'African-Algerian', 'Nicaraguan',\n",
              "        'West Indian', 'Central American', 'Jordanian', 'Asian-Burmese',\n",
              "        'Caribbean Island-Tobagoan', 'Middle Eastern-Afghanistani',\n",
              "        'Taiwanese', 'Nepalese', 'Somalian', 'State Recognized Tribe',\n",
              "        'Eastern European-Bosnian', 'Algerian', 'Sri Lankan', 'Guyanese',\n",
              "        'Iraqi', 'Uruguayan', 'Asian-Singaporean', 'Indonesian',\n",
              "        'Okinawan', 'Ethiopian', 'Paraguayan', 'South American-Guyanan',\n",
              "        'Central American Indian', 'Middle Eastern-Assyrian',\n",
              "        'Central American-Indian', 'South American-Paraguayan',\n",
              "        'Afghanistani', 'Croatian', 'Central American-Belizean',\n",
              "        'Federally Recognized Tribe', 'Asian-Okinawan', 'Sierra Leonian',\n",
              "        'Burmese', 'Criollo', 'Middle Eastern-Qatari', 'Icelandic',\n",
              "        'Palestinian', 'South American-Criollo', 'Singaporean',\n",
              "        'Costa Rican', 'Belizean', 'European-Icelandic', 'Hmong',\n",
              "        'Panamanian', 'Bahraini', 'Ghanaian', 'South American Indian',\n",
              "        'Asian-Madagascar', 'Asian-Maldivian', 'Tobagoan', 'Non-Hispanic',\n",
              "        'Asian-Bhutanese'], dtype=object),\n",
              " 'GenderDSC': array(['Male', 'Female', 'Unknown', 'X'], dtype=object),\n",
              " 'InterpreterRequiredFLG': array(['Y', 'N', 'N/A', 0], dtype=object),\n",
              " 'MilesFromLongwoodRange': array(['06-10 mi', '11-15 mi', '60+ mi', '0-5 mi', '21-25 mi', '36-40 mi',\n",
              "        'N/A', '41-45 mi', '26-30 mi', '46-50 mi', '16-20 mi', '31-35 mi',\n",
              "        '56-60 mi', '51-55 mi'], dtype=object),\n",
              " 'MyChartStatusDSC': array(['Activated', 'Inactivated', nan, 'Patient Declined',\n",
              "        'Pending Activation', 'Non Standard MyChart Status',\n",
              "        'Activation Code Generated, but Disabled'], dtype=object),\n",
              " 'PrimaryLanguageNM': array(['Chinese-Cantonese', 'Declined', 'N/A', 'English', 'Unavailable',\n",
              "        'Russian', 'Creole-Portuguese', 'Spanish', 'Vietnamese', 'Arabic',\n",
              "        'Portuguese', 'DNUPortuguese', 'Italian', 'Chinese-Mandarin',\n",
              "        'Haitian Creole', 'Turkish', 'Korean', 'creole-haitian',\n",
              "        'Mandarin', 'Luganda', 'Nepali', 'Cape Verdean Creole',\n",
              "        'Swahili-Kiswahili', 'Hindi', 'Other', 'French', 'Polish', 'Greek',\n",
              "        'Tamil', 'Deaf-ASL (request American Sign Language interpreter)',\n",
              "        'Thai', 'Burmese', 'Cantonese', 'Bulgarian', 'Khmer', 'Albanian',\n",
              "        'Somali', 'DNUfarsi',\n",
              "        'Deaf-Sign Language Other (contact Interpreter Services for options)',\n",
              "        'German', 'African-Somali', 'Hebrew', 'Bengali', 'Tagalog',\n",
              "        'Gujarati', 'Urdu', 'Persian', 'Arabic-Moroccan', 'chinese other',\n",
              "        'Japanese', 'Lithuanian', 'Armenian', 'Punjabi', 'Laotian',\n",
              "        'African-Berber', 'Portuguese-Brazilian', 'Serbian', 'Slovak',\n",
              "        'Finnish', 'Creole-Haitian', 'Gaelic', 'Portuguese-European',\n",
              "        'Bosnian', 'Ethiopian-Amharic', 'Ukrainian', 'Nigerian',\n",
              "        'Tigrinya', 'Eritrean', 'Slovenian', 'Mandingo', 'Hungarian',\n",
              "        'Romanian', 'Pashto', 'Filipino', 'Indonesian', 'Kinyarwanda',\n",
              "        'Twi', 'Macedonian', 'tagalag', 'Mongolian', 'Dari',\n",
              "        'arabic-egyptian', 'creole other', 'African-Ethiopian-Amharic',\n",
              "        'Karen', 'Hmong', 'Swedish', 'Chinese-Toishanese', 'Czech',\n",
              "        'Liberian', 'Danish', 'Maay-Maay', 'english',\n",
              "        'Deaf-CART (request Communication Access Realtime Translation services)',\n",
              "        'Norwegian', 'Dutch',\n",
              "        'Deaf-ASL/CDI (request American Sign Language/Certified Deaf interpreters)',\n",
              "        'nepalese', 'Toishanese', 'Igbo', 'Fuzhou', 'Chaozhou', 'Yoruba',\n",
              "        'Tibetan', 'Efik', 'Teluga', 'African-Swahili-Kiswahili',\n",
              "        'Yiddish', 'Zulu', 'Berber', 'Hausa', 'Kirundi', 'Croatian',\n",
              "        'African-Nigerian', 'African-Eritrean', 'african', 'Georgian',\n",
              "        'cambodian', 'African-Ethiopian-Tigrinya', 'Malay', 'Fulah',\n",
              "        'Chinese-Fukienese', 'African-Twi', 'Ndebele',\n",
              "        'chinese (mandarin)', 'Belarusian', 'Akan', 'African-Luganda',\n",
              "        'Shanghainese', 'creole-french', 'Shona-Ndebele'], dtype=object),\n",
              " 'RaceDSC': array(['Asian', 'Unavailable', 'Other-Specify', 'White or Caucasian',\n",
              "        'White', 'Black or African American', 'Other', 'Declined',\n",
              "        'American Indian or Alaska Native',\n",
              "        'Native Hawaiian or Other Pacific Islander', 'Hispanic or Latino'],\n",
              "       dtype=object),\n",
              " 'SelfIdentifiedGenderDSC': array(['N/A', 'Choose not to disclose', 'Female', 'Male',\n",
              "        'Transgender Male / Female-to-Male', 'Non-binary', 'Other',\n",
              "        'Genderqueer/Queer', 'Transgender Female / Male-to-Female',\n",
              "        'Questioning/Unsure'], dtype=object)}"
            ]
          },
          "metadata": {},
          "execution_count": 13
        }
      ]
    },
    {
      "cell_type": "markdown",
      "source": [
        "'Activated', 'Inactivated', nan, 'Patient Declined',\n",
        "'Pending Activation', 'Non Standard MyChart Status',\n",
        "'Activation Code Generated, but Disabled'\n",
        "\n",
        "https://mychart.genesishcs.org/MyChart/Authentication/Login?mode=stdfile&option=faq#TQ_disab"
      ],
      "metadata": {
        "id": "FqIA5mE1Cs-7"
      }
    },
    {
      "cell_type": "markdown",
      "source": [
        "**Demographic Analysis**\n",
        "\n",
        "Below we analyze the demographic data to find trends in MyChart statuses\n",
        "\n",
        "**By Race:**\n",
        "\n",
        "The data is heavily skewed towards the white race. The white and white or caucasian buckets together form over 70% of the demographic data. "
      ],
      "metadata": {
        "id": "7CCIOC6ng0sJ"
      }
    },
    {
      "cell_type": "code",
      "source": [
        "#Changing Nan values in Mychart status to 0\n",
        "\n",
        "#df.groupby(['MyChartStatusDSC','RaceDSC']).count()\n",
        "#df['MyChartStatusDSC']=df['MyChartStatusDSC'].fillna(0)"
      ],
      "metadata": {
        "id": "IFLflq2qkyWm"
      },
      "execution_count": null,
      "outputs": []
    },
    {
      "cell_type": "code",
      "source": [
        "df_p = df.groupby(\"RaceDSC\").count().reset_index()\n",
        "df_p['Race_percent'] = (df_p[\"Age\"]/df_p[\"Age\"].sum()*100)\n",
        "df_p\n",
        "sns.barplot(x = 'RaceDSC', y='Race_percent', data = df_p)\n",
        "plt.xticks(rotation = 'vertical')\n"
      ],
      "metadata": {
        "colab": {
          "base_uri": "https://localhost:8080/",
          "height": 510
        },
        "id": "S9uzHkCS08iU",
        "outputId": "831be669-22b2-4de1-f662-e20fc982b2e2"
      },
      "execution_count": 4,
      "outputs": [
        {
          "output_type": "execute_result",
          "data": {
            "text/plain": [
              "(array([ 0,  1,  2,  3,  4,  5,  6,  7,  8,  9, 10]),\n",
              " <a list of 11 Text major ticklabel objects>)"
            ]
          },
          "metadata": {},
          "execution_count": 4
        },
        {
          "output_type": "display_data",
          "data": {
            "image/png": "[encoded data removed]",
            "text/plain": [
              "<Figure size 432x288 with 1 Axes>"
            ]
          },
          "metadata": {
            "needs_background": "light"
          }
        }
      ]
    },
    {
      "cell_type": "code",
      "source": [
        "# axes = df.plot.bar(rot=0, subplots=True)\n",
        "# axes[1].legend(loc=2) \n",
        "sns.countplot(df_null['RaceDSC'])\n",
        "plt.xticks(rotation = 'vertical')"
      ],
      "metadata": {
        "colab": {
          "base_uri": "https://localhost:8080/",
          "height": 567
        },
        "id": "cUv_LrxVrJz9",
        "outputId": "9cf087dd-1147-4b54-d63c-cabc24dba2c3"
      },
      "execution_count": null,
      "outputs": [
        {
          "output_type": "stream",
          "name": "stderr",
          "text": [
            "/usr/local/lib/python3.7/dist-packages/seaborn/_decorators.py:43: FutureWarning: Pass the following variable as a keyword arg: x. From version 0.12, the only valid positional argument will be `data`, and passing other arguments without an explicit keyword will result in an error or misinterpretation.\n",
            "  FutureWarning\n"
          ]
        },
        {
          "output_type": "execute_result",
          "data": {
            "text/plain": [
              "(array([ 0,  1,  2,  3,  4,  5,  6,  7,  8,  9, 10]),\n",
              " <a list of 11 Text major ticklabel objects>)"
            ]
          },
          "metadata": {},
          "execution_count": 32
        },
        {
          "output_type": "display_data",
          "data": {
            "image/png": "[encoded data removed]",
            "text/plain": [
              "<Figure size 432x288 with 1 Axes>"
            ]
          },
          "metadata": {
            "needs_background": "light"
          }
        }
      ]
    },
    {
      "cell_type": "code",
      "source": [
        "# Count of race by MyChart Status\n",
        "g = sns.FacetGrid(df, col =\"MyChartStatusDSC\", height = 4)\n",
        "g.map(sns.countplot,'RaceDSC') \n",
        "rotation = 90 \n",
        "for i, ax in enumerate(g.fig.axes):  \n",
        "     ax.set_xticklabels(ax.get_xticklabels(), rotation = rotation)\n"
      ],
      "metadata": {
        "colab": {
          "base_uri": "https://localhost:8080/",
          "height": 367
        },
        "id": "iQ_Wwfg7s7xS",
        "outputId": "a0754887-cea5-47bf-de60-b7b7151000be"
      },
      "execution_count": null,
      "outputs": [
        {
          "output_type": "stream",
          "name": "stderr",
          "text": [
            "/usr/local/lib/python3.7/dist-packages/seaborn/axisgrid.py:670: UserWarning: Using the countplot function without specifying `order` is likely to produce an incorrect plot.\n",
            "  warnings.warn(warning)\n"
          ]
        },
        {
          "output_type": "display_data",
          "data": {
            "image/png": "[encoded data removed]",
            "text/plain": [
              "<Figure size 2016x288 with 7 Axes>"
            ]
          },
          "metadata": {
            "needs_background": "light"
          }
        }
      ]
    },
    {
      "cell_type": "code",
      "source": [
        "df_d = df.groupby('MyChartStatusDSC')['RaceDSC'].value_counts(normalize=True)\n",
        "df_d = df_d.mul(100).rename('Percent').reset_index()\n",
        "df_d\n"
      ],
      "metadata": {
        "colab": {
          "base_uri": "https://localhost:8080/",
          "height": 423
        },
        "id": "G5hOzidM-6q8",
        "outputId": "76aa2dbe-5c74-4eff-e5db-f1c6aa2ad435"
      },
      "execution_count": null,
      "outputs": [
        {
          "output_type": "execute_result",
          "data": {
            "text/html": [
              "\n",
              "  <div id=\"df-6ee4ff60-091e-4bf7-ad90-e814d5357833\">\n",
              "    <div class=\"colab-df-container\">\n",
              "      <div>\n",
              "<style scoped>\n",
              "    .dataframe tbody tr th:only-of-type {\n",
              "        vertical-align: middle;\n",
              "    }\n",
              "\n",
              "    .dataframe tbody tr th {\n",
              "        vertical-align: top;\n",
              "    }\n",
              "\n",
              "    .dataframe thead th {\n",
              "        text-align: right;\n",
              "    }\n",
              "</style>\n",
              "<table border=\"1\" class=\"dataframe\">\n",
              "  <thead>\n",
              "    <tr style=\"text-align: right;\">\n",
              "      <th></th>\n",
              "      <th>MyChartStatusDSC</th>\n",
              "      <th>RaceDSC</th>\n",
              "      <th>Percent</th>\n",
              "    </tr>\n",
              "  </thead>\n",
              "  <tbody>\n",
              "    <tr>\n",
              "      <th>0</th>\n",
              "      <td>0</td>\n",
              "      <td>White</td>\n",
              "      <td>40.107176</td>\n",
              "    </tr>\n",
              "    <tr>\n",
              "      <th>1</th>\n",
              "      <td>0</td>\n",
              "      <td>Unavailable</td>\n",
              "      <td>21.807137</td>\n",
              "    </tr>\n",
              "    <tr>\n",
              "      <th>2</th>\n",
              "      <td>0</td>\n",
              "      <td>White or Caucasian</td>\n",
              "      <td>18.676542</td>\n",
              "    </tr>\n",
              "    <tr>\n",
              "      <th>3</th>\n",
              "      <td>0</td>\n",
              "      <td>Other-Specify</td>\n",
              "      <td>6.657710</td>\n",
              "    </tr>\n",
              "    <tr>\n",
              "      <th>4</th>\n",
              "      <td>0</td>\n",
              "      <td>Black or African American</td>\n",
              "      <td>5.212524</td>\n",
              "    </tr>\n",
              "    <tr>\n",
              "      <th>...</th>\n",
              "      <td>...</td>\n",
              "      <td>...</td>\n",
              "      <td>...</td>\n",
              "    </tr>\n",
              "    <tr>\n",
              "      <th>65</th>\n",
              "      <td>Pending Activation</td>\n",
              "      <td>Declined</td>\n",
              "      <td>1.633229</td>\n",
              "    </tr>\n",
              "    <tr>\n",
              "      <th>66</th>\n",
              "      <td>Pending Activation</td>\n",
              "      <td>Other-Specify</td>\n",
              "      <td>0.304263</td>\n",
              "    </tr>\n",
              "    <tr>\n",
              "      <th>67</th>\n",
              "      <td>Pending Activation</td>\n",
              "      <td>American Indian or Alaska Native</td>\n",
              "      <td>0.122405</td>\n",
              "    </tr>\n",
              "    <tr>\n",
              "      <th>68</th>\n",
              "      <td>Pending Activation</td>\n",
              "      <td>Native Hawaiian or Other Pacific Islander</td>\n",
              "      <td>0.052459</td>\n",
              "    </tr>\n",
              "    <tr>\n",
              "      <th>69</th>\n",
              "      <td>Pending Activation</td>\n",
              "      <td>Hispanic or Latino</td>\n",
              "      <td>0.012823</td>\n",
              "    </tr>\n",
              "  </tbody>\n",
              "</table>\n",
              "<p>70 rows × 3 columns</p>\n",
              "</div>\n",
              "      <button class=\"colab-df-convert\" onclick=\"convertToInteractive('df-6ee4ff60-091e-4bf7-ad90-e814d5357833')\"\n",
              "              title=\"Convert this dataframe to an interactive table.\"\n",
              "              style=\"display:none;\">\n",
              "        \n",
              "  <svg xmlns=\"http://www.w3.org/2000/svg\" height=\"24px\"viewBox=\"0 0 24 24\"\n",
              "       width=\"24px\">\n",
              "    <path d=\"M0 0h24v24H0V0z\" fill=\"none\"/>\n",
              "    <path d=\"M18.56 5.44l.94 2.06.94-2.06 2.06-.94-2.06-.94-.94-2.06-.94 2.06-2.06.94zm-11 1L8.5 8.5l.94-2.06 2.06-.94-2.06-.94L8.5 2.5l-.94 2.06-2.06.94zm10 10l.94 2.06.94-2.06 2.06-.94-2.06-.94-.94-2.06-.94 2.06-2.06.94z\"/><path d=\"M17.41 7.96l-1.37-1.37c-.4-.4-.92-.59-1.43-.59-.52 0-1.04.2-1.43.59L10.3 9.45l-7.72 7.72c-.78.78-.78 2.05 0 2.83L4 21.41c.39.39.9.59 1.41.59.51 0 1.02-.2 1.41-.59l7.78-7.78 2.81-2.81c.8-.78.8-2.07 0-2.86zM5.41 20L4 18.59l7.72-7.72 1.47 1.35L5.41 20z\"/>\n",
              "  </svg>\n",
              "      </button>\n",
              "      \n",
              "  <style>\n",
              "    .colab-df-container {\n",
              "      display:flex;\n",
              "      flex-wrap:wrap;\n",
              "      gap: 12px;\n",
              "    }\n",
              "\n",
              "    .colab-df-convert {\n",
              "      background-color: #E8F0FE;\n",
              "      border: none;\n",
              "      border-radius: 50%;\n",
              "      cursor: pointer;\n",
              "      display: none;\n",
              "      fill: #1967D2;\n",
              "      height: 32px;\n",
              "      padding: 0 0 0 0;\n",
              "      width: 32px;\n",
              "    }\n",
              "\n",
              "    .colab-df-convert:hover {\n",
              "      background-color: #E2EBFA;\n",
              "      box-shadow: 0px 1px 2px rgba(60, 64, 67, 0.3), 0px 1px 3px 1px rgba(60, 64, 67, 0.15);\n",
              "      fill: #174EA6;\n",
              "    }\n",
              "\n",
              "    [theme=dark] .colab-df-convert {\n",
              "      background-color: #3B4455;\n",
              "      fill: #D2E3FC;\n",
              "    }\n",
              "\n",
              "    [theme=dark] .colab-df-convert:hover {\n",
              "      background-color: #434B5C;\n",
              "      box-shadow: 0px 1px 3px 1px rgba(0, 0, 0, 0.15);\n",
              "      filter: drop-shadow(0px 1px 2px rgba(0, 0, 0, 0.3));\n",
              "      fill: #FFFFFF;\n",
              "    }\n",
              "  </style>\n",
              "\n",
              "      <script>\n",
              "        const buttonEl =\n",
              "          document.querySelector('#df-6ee4ff60-091e-4bf7-ad90-e814d5357833 button.colab-df-convert');\n",
              "        buttonEl.style.display =\n",
              "          google.colab.kernel.accessAllowed ? 'block' : 'none';\n",
              "\n",
              "        async function convertToInteractive(key) {\n",
              "          const element = document.querySelector('#df-6ee4ff60-091e-4bf7-ad90-e814d5357833');\n",
              "          const dataTable =\n",
              "            await google.colab.kernel.invokeFunction('convertToInteractive',\n",
              "                                                     [key], {});\n",
              "          if (!dataTable) return;\n",
              "\n",
              "          const docLinkHtml = 'Like what you see? Visit the ' +\n",
              "            '<a target=\"_blank\" href=https://colab.research.google.com/notebooks/data_table.ipynb>data table notebook</a>'\n",
              "            + ' to learn more about interactive tables.';\n",
              "          element.innerHTML = '';\n",
              "          dataTable['output_type'] = 'display_data';\n",
              "          await google.colab.output.renderOutput(dataTable, element);\n",
              "          const docLink = document.createElement('div');\n",
              "          docLink.innerHTML = docLinkHtml;\n",
              "          element.appendChild(docLink);\n",
              "        }\n",
              "      </script>\n",
              "    </div>\n",
              "  </div>\n",
              "  "
            ],
            "text/plain": [
              "      MyChartStatusDSC                                    RaceDSC    Percent\n",
              "0                    0                                      White  40.107176\n",
              "1                    0                                Unavailable  21.807137\n",
              "2                    0                         White or Caucasian  18.676542\n",
              "3                    0                              Other-Specify   6.657710\n",
              "4                    0                  Black or African American   5.212524\n",
              "..                 ...                                        ...        ...\n",
              "65  Pending Activation                                   Declined   1.633229\n",
              "66  Pending Activation                              Other-Specify   0.304263\n",
              "67  Pending Activation           American Indian or Alaska Native   0.122405\n",
              "68  Pending Activation  Native Hawaiian or Other Pacific Islander   0.052459\n",
              "69  Pending Activation                         Hispanic or Latino   0.012823\n",
              "\n",
              "[70 rows x 3 columns]"
            ]
          },
          "metadata": {},
          "execution_count": 76
        }
      ]
    },
    {
      "cell_type": "markdown",
      "source": [
        "Looking at race as a percentage of total instead of absolute numbers - \n",
        "\n",
        "\n",
        "\n",
        "*   The percentage of Black patients in the Activated status is <5% and ~20% in the Nan status bucket \n",
        "*   The overall percentage of Black patients in the data is 5%\n",
        "*   The percentage of Black patients is also quite high for the disable status\n",
        "*   The inactivated % for Black patients is lower indicating that when offered health access, it is often used\n",
        "\n",
        "\n",
        "\n",
        "\n"
      ],
      "metadata": {
        "id": "YINFZTVoCAGj"
      }
    },
    {
      "cell_type": "code",
      "source": [
        "# g = sns.catplot(x='MyChartStatusDSC', y='Percent', hue='RaceDSC', kind='bar', data=df_d)\n",
        "# g.ax.set_ylim(0,100)\n",
        "\n",
        "g = sns.FacetGrid(df_d, col =\"MyChartStatusDSC\", height = 4)\n",
        "g.map(sns.barplot,'RaceDSC','Percent')\n",
        "rotation = 90 \n",
        "for i, ax in enumerate(g.fig.axes):  \n",
        "     ax.set_xticklabels(ax.get_xticklabels(), rotation = rotation)\n",
        "    "
      ],
      "metadata": {
        "colab": {
          "base_uri": "https://localhost:8080/",
          "height": 439
        },
        "id": "IQl8crEb_mm9",
        "outputId": "0e89b998-4277-438c-98d2-d620b2e449e9"
      },
      "execution_count": null,
      "outputs": [
        {
          "output_type": "stream",
          "name": "stderr",
          "text": [
            "/usr/local/lib/python3.7/dist-packages/seaborn/axisgrid.py:670: UserWarning: Using the barplot function without specifying `order` is likely to produce an incorrect plot.\n",
            "  warnings.warn(warning)\n"
          ]
        },
        {
          "output_type": "display_data",
          "data": {
            "image/png": "[encoded data removed]",
            "text/plain": [
              "<Figure size 2016x288 with 7 Axes>"
            ]
          },
          "metadata": {
            "needs_background": "light"
          }
        }
      ]
    },
    {
      "cell_type": "markdown",
      "source": [
        "**By Gender**\n",
        "\n",
        "The data has about 60% females and 40% males overall. The other categories are negligible in size. "
      ],
      "metadata": {
        "id": "Bh5owJ-YIOLh"
      }
    },
    {
      "cell_type": "code",
      "source": [
        "df_p = df.groupby(\"GenderDSC\").count().reset_index()\n",
        "df_p['Gender_percent'] = (df_p[\"Age\"]/df_p[\"Age\"].sum()*100)\n",
        "df_p\n",
        "sns.barplot(x = 'GenderDSC', y='Gender_percent', data = df_p)\n",
        "plt.xticks(rotation = 'vertical')"
      ],
      "metadata": {
        "colab": {
          "base_uri": "https://localhost:8080/",
          "height": 334
        },
        "id": "NG7do7a_IZZv",
        "outputId": "bfabd894-8e23-43d5-b62c-12c2f3ddf5fa"
      },
      "execution_count": null,
      "outputs": [
        {
          "output_type": "execute_result",
          "data": {
            "text/plain": [
              "(array([0, 1, 2, 3]), <a list of 4 Text major ticklabel objects>)"
            ]
          },
          "metadata": {},
          "execution_count": 87
        },
        {
          "output_type": "display_data",
          "data": {
            "image/png": "[encoded data removed]",
            "text/plain": [
              "<Figure size 432x288 with 1 Axes>"
            ]
          },
          "metadata": {
            "needs_background": "light"
          }
        }
      ]
    },
    {
      "cell_type": "code",
      "source": [
        "df_p = df.groupby(\"SelfIdentifiedGenderDSC\").count().reset_index()\n",
        "df_p['Gender_percent'] = (df_p[\"Age\"]/df_p[\"Age\"].sum()*100)\n",
        "df_p\n",
        "sns.barplot(x = 'SelfIdentifiedGenderDSC', y='Gender_percent', data = df_p)\n",
        "plt.xticks(rotation = 'vertical')"
      ],
      "metadata": {
        "colab": {
          "base_uri": "https://localhost:8080/",
          "height": 493
        },
        "id": "vsKK1bskJEtJ",
        "outputId": "3409b75f-59d0-455d-ee24-d400b202e6de"
      },
      "execution_count": null,
      "outputs": [
        {
          "output_type": "execute_result",
          "data": {
            "text/plain": [
              "(array([0, 1, 2, 3, 4, 5, 6, 7, 8, 9]),\n",
              " <a list of 10 Text major ticklabel objects>)"
            ]
          },
          "metadata": {},
          "execution_count": 89
        },
        {
          "output_type": "display_data",
          "data": {
            "image/png": "[encoded data removed]",
            "text/plain": [
              "<Figure size 432x288 with 1 Axes>"
            ]
          },
          "metadata": {
            "needs_background": "light"
          }
        }
      ]
    },
    {
      "cell_type": "markdown",
      "source": [
        "As a percentage, the proporation of females to males holds true to the overall data in most categories of mychart status. The only minor exception is inactivated. "
      ],
      "metadata": {
        "id": "9e_qgwU4KEzn"
      }
    },
    {
      "cell_type": "code",
      "source": [
        "df_d = df.groupby('MyChartStatusDSC')['GenderDSC'].value_counts(normalize=True)\n",
        "df_d = df_d.mul(100).rename('Percent').reset_index()\n",
        "g = sns.FacetGrid(df_d, col =\"MyChartStatusDSC\", height = 4)\n",
        "g.map(sns.barplot,'GenderDSC','Percent')\n",
        "rotation = 90 \n",
        "for i, ax in enumerate(g.fig.axes):  \n",
        "     ax.set_xticklabels(ax.get_xticklabels(), rotation = rotation)"
      ],
      "metadata": {
        "colab": {
          "base_uri": "https://localhost:8080/",
          "height": 304
        },
        "id": "K-7DBBFXJdSX",
        "outputId": "77d414d7-566e-403d-9e4a-645816336698"
      },
      "execution_count": null,
      "outputs": [
        {
          "output_type": "stream",
          "name": "stderr",
          "text": [
            "/usr/local/lib/python3.7/dist-packages/seaborn/axisgrid.py:670: UserWarning: Using the barplot function without specifying `order` is likely to produce an incorrect plot.\n",
            "  warnings.warn(warning)\n"
          ]
        },
        {
          "output_type": "display_data",
          "data": {
            "image/png": "[encoded data removed]",
            "text/plain": [
              "<Figure size 2016x288 with 7 Axes>"
            ]
          },
          "metadata": {
            "needs_background": "light"
          }
        }
      ]
    },
    {
      "cell_type": "markdown",
      "source": [
        "**By need for an interpreter**\n",
        "\n",
        "60% of the patients in the data do not need an interpreter"
      ],
      "metadata": {
        "id": "8-FXmNHvKeLC"
      }
    },
    {
      "cell_type": "code",
      "source": [
        "\n",
        "df_p = df.groupby(\"InterpreterRequiredFLG\").count().reset_index()\n",
        "df_p['Interpreter_percent'] = (df_p[\"Age\"]/df_p[\"Age\"].sum()*100)\n",
        "df_p\n",
        "sns.barplot(x = 'InterpreterRequiredFLG', y='Interpreter_percent', data = df_p)\n",
        "plt.xticks(rotation = 'vertical')\n",
        "\n"
      ],
      "metadata": {
        "colab": {
          "base_uri": "https://localhost:8080/",
          "height": 305
        },
        "id": "EcTEYTYwKdRP",
        "outputId": "f8be63cc-9cdc-473f-97fc-2e0ce9d0a9fb"
      },
      "execution_count": null,
      "outputs": [
        {
          "output_type": "execute_result",
          "data": {
            "text/plain": [
              "(array([0, 1, 2, 3]), <a list of 4 Text major ticklabel objects>)"
            ]
          },
          "metadata": {},
          "execution_count": 93
        },
        {
          "output_type": "display_data",
          "data": {
            "image/png": "[encoded data removed]",
            "text/plain": [
              "<Figure size 432x288 with 1 Axes>"
            ]
          },
          "metadata": {
            "needs_background": "light"
          }
        }
      ]
    },
    {
      "cell_type": "markdown",
      "source": [
        "The Nan status has a much higher percentage of people who need interpreters ( ~ 20%) as compared to the overall percentage (~ 5%)"
      ],
      "metadata": {
        "id": "GzFOllJwNbKD"
      }
    },
    {
      "cell_type": "code",
      "source": [
        "df_d = df.groupby('MyChartStatusDSC')['InterpreterRequiredFLG'].value_counts(normalize=True)\n",
        "df_d = df_d.mul(100).rename('Percent').reset_index()\n",
        "g = sns.FacetGrid(df_d, col =\"MyChartStatusDSC\", height = 4)\n",
        "g.map(sns.barplot,'InterpreterRequiredFLG','Percent')\n",
        "rotation = 90 \n",
        "for i, ax in enumerate(g.fig.axes):  \n",
        "     ax.set_xticklabels(ax.get_xticklabels(), rotation = rotation)"
      ],
      "metadata": {
        "colab": {
          "base_uri": "https://localhost:8080/",
          "height": 281
        },
        "id": "qmvNzfjVLQEN",
        "outputId": "38749f0b-ce52-4005-855f-f15625e5bef5"
      },
      "execution_count": null,
      "outputs": [
        {
          "output_type": "stream",
          "name": "stderr",
          "text": [
            "/usr/local/lib/python3.7/dist-packages/seaborn/axisgrid.py:670: UserWarning: Using the barplot function without specifying `order` is likely to produce an incorrect plot.\n",
            "  warnings.warn(warning)\n"
          ]
        },
        {
          "output_type": "display_data",
          "data": {
            "image/png": "[encoded data removed]",
            "text/plain": [
              "<Figure size 2016x288 with 7 Axes>"
            ]
          },
          "metadata": {
            "needs_background": "light"
          }
        }
      ]
    },
    {
      "cell_type": "markdown",
      "source": [
        "**By distance from facility**"
      ],
      "metadata": {
        "id": "9lG9wTMUOs1u"
      }
    },
    {
      "cell_type": "code",
      "source": [
        "#MilesFromLongwoodRange\n",
        "\n",
        "df_p = df.groupby(\"MilesFromLongwoodRange\").count().reset_index()\n",
        "df_p['Distance_percent'] = (df_p[\"Age\"]/df_p[\"Age\"].sum()*100)\n",
        "df_p\n",
        "sns.barplot(x = 'MilesFromLongwoodRange', y='Distance_percent', data = df_p)\n",
        "plt.xticks(rotation = 'vertical')\n"
      ],
      "metadata": {
        "colab": {
          "base_uri": "https://localhost:8080/",
          "height": 350
        },
        "id": "KOa-3JTZOvqK",
        "outputId": "e7775272-ba0a-4a0d-e505-66bf74463c45"
      },
      "execution_count": null,
      "outputs": [
        {
          "output_type": "execute_result",
          "data": {
            "text/plain": [
              "(array([ 0,  1,  2,  3,  4,  5,  6,  7,  8,  9, 10, 11, 12, 13]),\n",
              " <a list of 14 Text major ticklabel objects>)"
            ]
          },
          "metadata": {},
          "execution_count": 97
        },
        {
          "output_type": "display_data",
          "data": {
            "image/png": "[encoded data removed]",
            "text/plain": [
              "<Figure size 432x288 with 1 Axes>"
            ]
          },
          "metadata": {
            "needs_background": "light"
          }
        }
      ]
    },
    {
      "cell_type": "code",
      "source": [
        "df_d = df.groupby('MyChartStatusDSC')['MilesFromLongwoodRange'].value_counts(normalize=True)\n",
        "df_d = df_d.mul(100).rename('Percent').reset_index()\n",
        "g = sns.FacetGrid(df_d, col =\"MyChartStatusDSC\", height = 4)\n",
        "g.map(sns.barplot,'MilesFromLongwoodRange','Percent')\n",
        "rotation = 90 \n",
        "for i, ax in enumerate(g.fig.axes):  \n",
        "     ax.set_xticklabels(ax.get_xticklabels(), rotation = rotation)"
      ],
      "metadata": {
        "colab": {
          "base_uri": "https://localhost:8080/",
          "height": 302
        },
        "id": "swyB8NSKPAo4",
        "outputId": "c33cdcee-a702-44d5-9775-798e53c2848c"
      },
      "execution_count": null,
      "outputs": [
        {
          "output_type": "stream",
          "name": "stderr",
          "text": [
            "/usr/local/lib/python3.7/dist-packages/seaborn/axisgrid.py:670: UserWarning: Using the barplot function without specifying `order` is likely to produce an incorrect plot.\n",
            "  warnings.warn(warning)\n"
          ]
        },
        {
          "output_type": "display_data",
          "data": {
            "image/png": "[encoded data removed]",
            "text/plain": [
              "<Figure size 2016x288 with 7 Axes>"
            ]
          },
          "metadata": {
            "needs_background": "light"
          }
        }
      ]
    },
    {
      "cell_type": "markdown",
      "source": [
        "**By age**"
      ],
      "metadata": {
        "id": "VBSXh7bVPUCQ"
      }
    },
    {
      "cell_type": "code",
      "source": [
        "#Creating age categories\n",
        "labels = [\"{0} - {1}\".format(i, i + 9) for i in range(0, 100, 10)]\n",
        "df[\"age_group\"] = pd.cut(df.Age, range(0, 105, 10), right=False, labels=labels)\n",
        "df"
      ],
      "metadata": {
        "colab": {
          "base_uri": "https://localhost:8080/",
          "height": 575
        },
        "id": "YOK8rDJZPWeQ",
        "outputId": "3d7463f9-e499-47b7-a673-5ac4ffdba659"
      },
      "execution_count": null,
      "outputs": [
        {
          "output_type": "execute_result",
          "data": {
            "text/html": [
              "\n",
              "  <div id=\"df-0c4a2c76-b25a-4f1d-9191-ce8d3fd4fc4d\">\n",
              "    <div class=\"colab-df-container\">\n",
              "      <div>\n",
              "<style scoped>\n",
              "    .dataframe tbody tr th:only-of-type {\n",
              "        vertical-align: middle;\n",
              "    }\n",
              "\n",
              "    .dataframe tbody tr th {\n",
              "        vertical-align: top;\n",
              "    }\n",
              "\n",
              "    .dataframe thead th {\n",
              "        text-align: right;\n",
              "    }\n",
              "</style>\n",
              "<table border=\"1\" class=\"dataframe\">\n",
              "  <thead>\n",
              "    <tr style=\"text-align: right;\">\n",
              "      <th></th>\n",
              "      <th>DFCIMRN</th>\n",
              "      <th>GenderDSC</th>\n",
              "      <th>SelfIdentifiedGenderDSC</th>\n",
              "      <th>InterpreterRequiredFLG</th>\n",
              "      <th>PrimaryLanguageNM</th>\n",
              "      <th>RaceDSC</th>\n",
              "      <th>EthnicityNM</th>\n",
              "      <th>MyChartStatusDSC</th>\n",
              "      <th>MilesFromLongwoodRange</th>\n",
              "      <th>Age</th>\n",
              "      <th>age_group</th>\n",
              "    </tr>\n",
              "  </thead>\n",
              "  <tbody>\n",
              "    <tr>\n",
              "      <th>0</th>\n",
              "      <td>0xF357D6D5BAFA16FB147BE4E26B53962308784F2340E5...</td>\n",
              "      <td>Male</td>\n",
              "      <td>N/A</td>\n",
              "      <td>Y</td>\n",
              "      <td>Chinese-Cantonese</td>\n",
              "      <td>Asian</td>\n",
              "      <td>Chinese</td>\n",
              "      <td>Activated</td>\n",
              "      <td>06-10 mi</td>\n",
              "      <td>72</td>\n",
              "      <td>70 - 79</td>\n",
              "    </tr>\n",
              "    <tr>\n",
              "      <th>1</th>\n",
              "      <td>0xCAB615644AA56EFDA9BBABE00E92F4C8F71217FB7E9B...</td>\n",
              "      <td>Male</td>\n",
              "      <td>Choose not to disclose</td>\n",
              "      <td>N</td>\n",
              "      <td>Declined</td>\n",
              "      <td>Unavailable</td>\n",
              "      <td>Unavailable</td>\n",
              "      <td>Inactivated</td>\n",
              "      <td>11-15 mi</td>\n",
              "      <td>74</td>\n",
              "      <td>70 - 79</td>\n",
              "    </tr>\n",
              "    <tr>\n",
              "      <th>2</th>\n",
              "      <td>0x9E5FB55AFEE474BB1D6EF40EA894204D3F599F446CA5...</td>\n",
              "      <td>Female</td>\n",
              "      <td>N/A</td>\n",
              "      <td>N/A</td>\n",
              "      <td>N/A</td>\n",
              "      <td>Other-Specify</td>\n",
              "      <td>Other-Specify</td>\n",
              "      <td>0</td>\n",
              "      <td>60+ mi</td>\n",
              "      <td>62</td>\n",
              "      <td>60 - 69</td>\n",
              "    </tr>\n",
              "    <tr>\n",
              "      <th>3</th>\n",
              "      <td>0xD141C9EC891653F5446C9C9D1A1B3133D22038278669...</td>\n",
              "      <td>Female</td>\n",
              "      <td>Female</td>\n",
              "      <td>N</td>\n",
              "      <td>English</td>\n",
              "      <td>White or Caucasian</td>\n",
              "      <td>Unavailable</td>\n",
              "      <td>Activated</td>\n",
              "      <td>0-5 mi</td>\n",
              "      <td>26</td>\n",
              "      <td>20 - 29</td>\n",
              "    </tr>\n",
              "    <tr>\n",
              "      <th>4</th>\n",
              "      <td>0x0657FE0E68D45F5D88D551BE88DA940683B5E2A30F3C...</td>\n",
              "      <td>Female</td>\n",
              "      <td>Female</td>\n",
              "      <td>N</td>\n",
              "      <td>English</td>\n",
              "      <td>White</td>\n",
              "      <td>American</td>\n",
              "      <td>Activated</td>\n",
              "      <td>60+ mi</td>\n",
              "      <td>56</td>\n",
              "      <td>50 - 59</td>\n",
              "    </tr>\n",
              "    <tr>\n",
              "      <th>...</th>\n",
              "      <td>...</td>\n",
              "      <td>...</td>\n",
              "      <td>...</td>\n",
              "      <td>...</td>\n",
              "      <td>...</td>\n",
              "      <td>...</td>\n",
              "      <td>...</td>\n",
              "      <td>...</td>\n",
              "      <td>...</td>\n",
              "      <td>...</td>\n",
              "      <td>...</td>\n",
              "    </tr>\n",
              "    <tr>\n",
              "      <th>699427</th>\n",
              "      <td>0x0CBCF3AA529DBB90B67DDA3A65D29AA366CD335DB217...</td>\n",
              "      <td>Female</td>\n",
              "      <td>N/A</td>\n",
              "      <td>N</td>\n",
              "      <td>English</td>\n",
              "      <td>White or Caucasian</td>\n",
              "      <td>American</td>\n",
              "      <td>Activated</td>\n",
              "      <td>36-40 mi</td>\n",
              "      <td>75</td>\n",
              "      <td>70 - 79</td>\n",
              "    </tr>\n",
              "    <tr>\n",
              "      <th>699428</th>\n",
              "      <td>0xE7DABF03655C4BE55FB21DD2FA4BE57F3F766DE52E71...</td>\n",
              "      <td>Female</td>\n",
              "      <td>N/A</td>\n",
              "      <td>N</td>\n",
              "      <td>English</td>\n",
              "      <td>Unavailable</td>\n",
              "      <td>Declined</td>\n",
              "      <td>0</td>\n",
              "      <td>06-10 mi</td>\n",
              "      <td>88</td>\n",
              "      <td>80 - 89</td>\n",
              "    </tr>\n",
              "    <tr>\n",
              "      <th>699429</th>\n",
              "      <td>0xF72F20379332189B8AAD37B17F98790C32B11E204B39...</td>\n",
              "      <td>Male</td>\n",
              "      <td>N/A</td>\n",
              "      <td>0</td>\n",
              "      <td>English</td>\n",
              "      <td>White or Caucasian</td>\n",
              "      <td>Unavailable</td>\n",
              "      <td>0</td>\n",
              "      <td>60+ mi</td>\n",
              "      <td>81</td>\n",
              "      <td>80 - 89</td>\n",
              "    </tr>\n",
              "    <tr>\n",
              "      <th>699430</th>\n",
              "      <td>0x7B8763532D1761055AF2B144F373EC756BD665965461...</td>\n",
              "      <td>Male</td>\n",
              "      <td>N/A</td>\n",
              "      <td>N</td>\n",
              "      <td>English</td>\n",
              "      <td>Declined</td>\n",
              "      <td>Declined</td>\n",
              "      <td>Activated</td>\n",
              "      <td>06-10 mi</td>\n",
              "      <td>56</td>\n",
              "      <td>50 - 59</td>\n",
              "    </tr>\n",
              "    <tr>\n",
              "      <th>699431</th>\n",
              "      <td>0x4028934E0F930E997B8403A8726962359B362A4A6B54...</td>\n",
              "      <td>Female</td>\n",
              "      <td>N/A</td>\n",
              "      <td>N</td>\n",
              "      <td>English</td>\n",
              "      <td>White or Caucasian</td>\n",
              "      <td>Other-Specify</td>\n",
              "      <td>Pending Activation</td>\n",
              "      <td>56-60 mi</td>\n",
              "      <td>56</td>\n",
              "      <td>50 - 59</td>\n",
              "    </tr>\n",
              "  </tbody>\n",
              "</table>\n",
              "<p>699432 rows × 11 columns</p>\n",
              "</div>\n",
              "      <button class=\"colab-df-convert\" onclick=\"convertToInteractive('df-0c4a2c76-b25a-4f1d-9191-ce8d3fd4fc4d')\"\n",
              "              title=\"Convert this dataframe to an interactive table.\"\n",
              "              style=\"display:none;\">\n",
              "        \n",
              "  <svg xmlns=\"http://www.w3.org/2000/svg\" height=\"24px\"viewBox=\"0 0 24 24\"\n",
              "       width=\"24px\">\n",
              "    <path d=\"M0 0h24v24H0V0z\" fill=\"none\"/>\n",
              "    <path d=\"M18.56 5.44l.94 2.06.94-2.06 2.06-.94-2.06-.94-.94-2.06-.94 2.06-2.06.94zm-11 1L8.5 8.5l.94-2.06 2.06-.94-2.06-.94L8.5 2.5l-.94 2.06-2.06.94zm10 10l.94 2.06.94-2.06 2.06-.94-2.06-.94-.94-2.06-.94 2.06-2.06.94z\"/><path d=\"M17.41 7.96l-1.37-1.37c-.4-.4-.92-.59-1.43-.59-.52 0-1.04.2-1.43.59L10.3 9.45l-7.72 7.72c-.78.78-.78 2.05 0 2.83L4 21.41c.39.39.9.59 1.41.59.51 0 1.02-.2 1.41-.59l7.78-7.78 2.81-2.81c.8-.78.8-2.07 0-2.86zM5.41 20L4 18.59l7.72-7.72 1.47 1.35L5.41 20z\"/>\n",
              "  </svg>\n",
              "      </button>\n",
              "      \n",
              "  <style>\n",
              "    .colab-df-container {\n",
              "      display:flex;\n",
              "      flex-wrap:wrap;\n",
              "      gap: 12px;\n",
              "    }\n",
              "\n",
              "    .colab-df-convert {\n",
              "      background-color: #E8F0FE;\n",
              "      border: none;\n",
              "      border-radius: 50%;\n",
              "      cursor: pointer;\n",
              "      display: none;\n",
              "      fill: #1967D2;\n",
              "      height: 32px;\n",
              "      padding: 0 0 0 0;\n",
              "      width: 32px;\n",
              "    }\n",
              "\n",
              "    .colab-df-convert:hover {\n",
              "      background-color: #E2EBFA;\n",
              "      box-shadow: 0px 1px 2px rgba(60, 64, 67, 0.3), 0px 1px 3px 1px rgba(60, 64, 67, 0.15);\n",
              "      fill: #174EA6;\n",
              "    }\n",
              "\n",
              "    [theme=dark] .colab-df-convert {\n",
              "      background-color: #3B4455;\n",
              "      fill: #D2E3FC;\n",
              "    }\n",
              "\n",
              "    [theme=dark] .colab-df-convert:hover {\n",
              "      background-color: #434B5C;\n",
              "      box-shadow: 0px 1px 3px 1px rgba(0, 0, 0, 0.15);\n",
              "      filter: drop-shadow(0px 1px 2px rgba(0, 0, 0, 0.3));\n",
              "      fill: #FFFFFF;\n",
              "    }\n",
              "  </style>\n",
              "\n",
              "      <script>\n",
              "        const buttonEl =\n",
              "          document.querySelector('#df-0c4a2c76-b25a-4f1d-9191-ce8d3fd4fc4d button.colab-df-convert');\n",
              "        buttonEl.style.display =\n",
              "          google.colab.kernel.accessAllowed ? 'block' : 'none';\n",
              "\n",
              "        async function convertToInteractive(key) {\n",
              "          const element = document.querySelector('#df-0c4a2c76-b25a-4f1d-9191-ce8d3fd4fc4d');\n",
              "          const dataTable =\n",
              "            await google.colab.kernel.invokeFunction('convertToInteractive',\n",
              "                                                     [key], {});\n",
              "          if (!dataTable) return;\n",
              "\n",
              "          const docLinkHtml = 'Like what you see? Visit the ' +\n",
              "            '<a target=\"_blank\" href=https://colab.research.google.com/notebooks/data_table.ipynb>data table notebook</a>'\n",
              "            + ' to learn more about interactive tables.';\n",
              "          element.innerHTML = '';\n",
              "          dataTable['output_type'] = 'display_data';\n",
              "          await google.colab.output.renderOutput(dataTable, element);\n",
              "          const docLink = document.createElement('div');\n",
              "          docLink.innerHTML = docLinkHtml;\n",
              "          element.appendChild(docLink);\n",
              "        }\n",
              "      </script>\n",
              "    </div>\n",
              "  </div>\n",
              "  "
            ],
            "text/plain": [
              "                                                  DFCIMRN  ... age_group\n",
              "0       0xF357D6D5BAFA16FB147BE4E26B53962308784F2340E5...  ...   70 - 79\n",
              "1       0xCAB615644AA56EFDA9BBABE00E92F4C8F71217FB7E9B...  ...   70 - 79\n",
              "2       0x9E5FB55AFEE474BB1D6EF40EA894204D3F599F446CA5...  ...   60 - 69\n",
              "3       0xD141C9EC891653F5446C9C9D1A1B3133D22038278669...  ...   20 - 29\n",
              "4       0x0657FE0E68D45F5D88D551BE88DA940683B5E2A30F3C...  ...   50 - 59\n",
              "...                                                   ...  ...       ...\n",
              "699427  0x0CBCF3AA529DBB90B67DDA3A65D29AA366CD335DB217...  ...   70 - 79\n",
              "699428  0xE7DABF03655C4BE55FB21DD2FA4BE57F3F766DE52E71...  ...   80 - 89\n",
              "699429  0xF72F20379332189B8AAD37B17F98790C32B11E204B39...  ...   80 - 89\n",
              "699430  0x7B8763532D1761055AF2B144F373EC756BD665965461...  ...   50 - 59\n",
              "699431  0x4028934E0F930E997B8403A8726962359B362A4A6B54...  ...   50 - 59\n",
              "\n",
              "[699432 rows x 11 columns]"
            ]
          },
          "metadata": {},
          "execution_count": 99
        }
      ]
    },
    {
      "cell_type": "code",
      "source": [
        "df_p = df.groupby(\"age_group\").count().reset_index()\n",
        "df_p['Age_percent'] = (df_p[\"Age\"]/df_p[\"Age\"].sum()*100)\n",
        "df_p\n",
        "sns.barplot(x = 'age_group', y='Age_percent', data = df_p)\n",
        "plt.xticks(rotation = 'vertical')"
      ],
      "metadata": {
        "colab": {
          "base_uri": "https://localhost:8080/",
          "height": 343
        },
        "id": "SLoOyzHRQQB6",
        "outputId": "7d8dfb1d-777a-4724-cb52-1cc83fd3ce82"
      },
      "execution_count": null,
      "outputs": [
        {
          "output_type": "execute_result",
          "data": {
            "text/plain": [
              "(array([0, 1, 2, 3, 4, 5, 6, 7, 8, 9]),\n",
              " <a list of 10 Text major ticklabel objects>)"
            ]
          },
          "metadata": {},
          "execution_count": 101
        },
        {
          "output_type": "display_data",
          "data": {
            "image/png": "[encoded data removed]",
            "text/plain": [
              "<Figure size 432x288 with 1 Axes>"
            ]
          },
          "metadata": {
            "needs_background": "light"
          }
        }
      ]
    },
    {
      "cell_type": "code",
      "source": [
        "df_d = df.groupby('MyChartStatusDSC')['age_group'].value_counts(normalize=True)\n",
        "df_d = df_d.mul(100).rename('Percent').reset_index()\n",
        "g = sns.FacetGrid(df_d, col =\"MyChartStatusDSC\", height = 4)\n",
        "g.map(sns.barplot,'age_group','Percent')\n",
        "rotation = 90 \n",
        "for i, ax in enumerate(g.fig.axes):  \n",
        "     ax.set_xticklabels(ax.get_xticklabels(), rotation = rotation)"
      ],
      "metadata": {
        "colab": {
          "base_uri": "https://localhost:8080/",
          "height": 296
        },
        "id": "tX59I1hDQzgG",
        "outputId": "03a4949e-b283-47c9-c3e2-3347cd4ceab9"
      },
      "execution_count": null,
      "outputs": [
        {
          "output_type": "stream",
          "name": "stderr",
          "text": [
            "/usr/local/lib/python3.7/dist-packages/seaborn/axisgrid.py:670: UserWarning: Using the barplot function without specifying `order` is likely to produce an incorrect plot.\n",
            "  warnings.warn(warning)\n"
          ]
        },
        {
          "output_type": "display_data",
          "data": {
            "image/png": "[encoded data removed]",
            "text/plain": [
              "<Figure size 2016x288 with 7 Axes>"
            ]
          },
          "metadata": {
            "needs_background": "light"
          }
        }
      ]
    },
    {
      "cell_type": "markdown",
      "source": [
        "**Null MyChart status analysis**"
      ],
      "metadata": {
        "id": "34W72vXssx8J"
      }
    },
    {
      "cell_type": "code",
      "source": [
        "df.groupby('MyChartStatusDSC').count()"
      ],
      "metadata": {
        "colab": {
          "base_uri": "https://localhost:8080/",
          "height": 300
        },
        "id": "A8mlaZuqnxY6",
        "outputId": "25c63af1-704f-401f-d646-b7b3e758ef0f"
      },
      "execution_count": null,
      "outputs": [
        {
          "output_type": "execute_result",
          "data": {
            "text/html": [
              "\n",
              "  <div id=\"df-11b70b63-e910-4a24-b233-08d72914dfab\">\n",
              "    <div class=\"colab-df-container\">\n",
              "      <div>\n",
              "<style scoped>\n",
              "    .dataframe tbody tr th:only-of-type {\n",
              "        vertical-align: middle;\n",
              "    }\n",
              "\n",
              "    .dataframe tbody tr th {\n",
              "        vertical-align: top;\n",
              "    }\n",
              "\n",
              "    .dataframe thead th {\n",
              "        text-align: right;\n",
              "    }\n",
              "</style>\n",
              "<table border=\"1\" class=\"dataframe\">\n",
              "  <thead>\n",
              "    <tr style=\"text-align: right;\">\n",
              "      <th></th>\n",
              "      <th>DFCIMRN</th>\n",
              "      <th>GenderDSC</th>\n",
              "      <th>SelfIdentifiedGenderDSC</th>\n",
              "      <th>InterpreterRequiredFLG</th>\n",
              "      <th>PrimaryLanguageNM</th>\n",
              "      <th>RaceDSC</th>\n",
              "      <th>EthnicityNM</th>\n",
              "      <th>MilesFromLongwoodRange</th>\n",
              "      <th>Age</th>\n",
              "    </tr>\n",
              "    <tr>\n",
              "      <th>MyChartStatusDSC</th>\n",
              "      <th></th>\n",
              "      <th></th>\n",
              "      <th></th>\n",
              "      <th></th>\n",
              "      <th></th>\n",
              "      <th></th>\n",
              "      <th></th>\n",
              "      <th></th>\n",
              "      <th></th>\n",
              "    </tr>\n",
              "  </thead>\n",
              "  <tbody>\n",
              "    <tr>\n",
              "      <th>0</th>\n",
              "      <td>259759</td>\n",
              "      <td>259759</td>\n",
              "      <td>259759</td>\n",
              "      <td>259759</td>\n",
              "      <td>259759</td>\n",
              "      <td>259759</td>\n",
              "      <td>259759</td>\n",
              "      <td>259759</td>\n",
              "      <td>259759</td>\n",
              "    </tr>\n",
              "    <tr>\n",
              "      <th>Activated</th>\n",
              "      <td>253965</td>\n",
              "      <td>253965</td>\n",
              "      <td>253965</td>\n",
              "      <td>253965</td>\n",
              "      <td>253965</td>\n",
              "      <td>253965</td>\n",
              "      <td>253965</td>\n",
              "      <td>253965</td>\n",
              "      <td>253965</td>\n",
              "    </tr>\n",
              "    <tr>\n",
              "      <th>Activation Code Generated, but Disabled</th>\n",
              "      <td>27</td>\n",
              "      <td>27</td>\n",
              "      <td>27</td>\n",
              "      <td>27</td>\n",
              "      <td>27</td>\n",
              "      <td>27</td>\n",
              "      <td>27</td>\n",
              "      <td>27</td>\n",
              "      <td>27</td>\n",
              "    </tr>\n",
              "    <tr>\n",
              "      <th>Inactivated</th>\n",
              "      <td>46142</td>\n",
              "      <td>46142</td>\n",
              "      <td>46142</td>\n",
              "      <td>46142</td>\n",
              "      <td>46142</td>\n",
              "      <td>46142</td>\n",
              "      <td>46142</td>\n",
              "      <td>46142</td>\n",
              "      <td>46142</td>\n",
              "    </tr>\n",
              "    <tr>\n",
              "      <th>Non Standard MyChart Status</th>\n",
              "      <td>41865</td>\n",
              "      <td>41865</td>\n",
              "      <td>41865</td>\n",
              "      <td>41865</td>\n",
              "      <td>41865</td>\n",
              "      <td>41865</td>\n",
              "      <td>41865</td>\n",
              "      <td>41865</td>\n",
              "      <td>41865</td>\n",
              "    </tr>\n",
              "    <tr>\n",
              "      <th>Patient Declined</th>\n",
              "      <td>11893</td>\n",
              "      <td>11893</td>\n",
              "      <td>11893</td>\n",
              "      <td>11893</td>\n",
              "      <td>11893</td>\n",
              "      <td>11893</td>\n",
              "      <td>11893</td>\n",
              "      <td>11893</td>\n",
              "      <td>11893</td>\n",
              "    </tr>\n",
              "    <tr>\n",
              "      <th>Pending Activation</th>\n",
              "      <td>85781</td>\n",
              "      <td>85781</td>\n",
              "      <td>85781</td>\n",
              "      <td>85781</td>\n",
              "      <td>85781</td>\n",
              "      <td>85781</td>\n",
              "      <td>85781</td>\n",
              "      <td>85781</td>\n",
              "      <td>85781</td>\n",
              "    </tr>\n",
              "  </tbody>\n",
              "</table>\n",
              "</div>\n",
              "      <button class=\"colab-df-convert\" onclick=\"convertToInteractive('df-11b70b63-e910-4a24-b233-08d72914dfab')\"\n",
              "              title=\"Convert this dataframe to an interactive table.\"\n",
              "              style=\"display:none;\">\n",
              "        \n",
              "  <svg xmlns=\"http://www.w3.org/2000/svg\" height=\"24px\"viewBox=\"0 0 24 24\"\n",
              "       width=\"24px\">\n",
              "    <path d=\"M0 0h24v24H0V0z\" fill=\"none\"/>\n",
              "    <path d=\"M18.56 5.44l.94 2.06.94-2.06 2.06-.94-2.06-.94-.94-2.06-.94 2.06-2.06.94zm-11 1L8.5 8.5l.94-2.06 2.06-.94-2.06-.94L8.5 2.5l-.94 2.06-2.06.94zm10 10l.94 2.06.94-2.06 2.06-.94-2.06-.94-.94-2.06-.94 2.06-2.06.94z\"/><path d=\"M17.41 7.96l-1.37-1.37c-.4-.4-.92-.59-1.43-.59-.52 0-1.04.2-1.43.59L10.3 9.45l-7.72 7.72c-.78.78-.78 2.05 0 2.83L4 21.41c.39.39.9.59 1.41.59.51 0 1.02-.2 1.41-.59l7.78-7.78 2.81-2.81c.8-.78.8-2.07 0-2.86zM5.41 20L4 18.59l7.72-7.72 1.47 1.35L5.41 20z\"/>\n",
              "  </svg>\n",
              "      </button>\n",
              "      \n",
              "  <style>\n",
              "    .colab-df-container {\n",
              "      display:flex;\n",
              "      flex-wrap:wrap;\n",
              "      gap: 12px;\n",
              "    }\n",
              "\n",
              "    .colab-df-convert {\n",
              "      background-color: #E8F0FE;\n",
              "      border: none;\n",
              "      border-radius: 50%;\n",
              "      cursor: pointer;\n",
              "      display: none;\n",
              "      fill: #1967D2;\n",
              "      height: 32px;\n",
              "      padding: 0 0 0 0;\n",
              "      width: 32px;\n",
              "    }\n",
              "\n",
              "    .colab-df-convert:hover {\n",
              "      background-color: #E2EBFA;\n",
              "      box-shadow: 0px 1px 2px rgba(60, 64, 67, 0.3), 0px 1px 3px 1px rgba(60, 64, 67, 0.15);\n",
              "      fill: #174EA6;\n",
              "    }\n",
              "\n",
              "    [theme=dark] .colab-df-convert {\n",
              "      background-color: #3B4455;\n",
              "      fill: #D2E3FC;\n",
              "    }\n",
              "\n",
              "    [theme=dark] .colab-df-convert:hover {\n",
              "      background-color: #434B5C;\n",
              "      box-shadow: 0px 1px 3px 1px rgba(0, 0, 0, 0.15);\n",
              "      filter: drop-shadow(0px 1px 2px rgba(0, 0, 0, 0.3));\n",
              "      fill: #FFFFFF;\n",
              "    }\n",
              "  </style>\n",
              "\n",
              "      <script>\n",
              "        const buttonEl =\n",
              "          document.querySelector('#df-11b70b63-e910-4a24-b233-08d72914dfab button.colab-df-convert');\n",
              "        buttonEl.style.display =\n",
              "          google.colab.kernel.accessAllowed ? 'block' : 'none';\n",
              "\n",
              "        async function convertToInteractive(key) {\n",
              "          const element = document.querySelector('#df-11b70b63-e910-4a24-b233-08d72914dfab');\n",
              "          const dataTable =\n",
              "            await google.colab.kernel.invokeFunction('convertToInteractive',\n",
              "                                                     [key], {});\n",
              "          if (!dataTable) return;\n",
              "\n",
              "          const docLinkHtml = 'Like what you see? Visit the ' +\n",
              "            '<a target=\"_blank\" href=https://colab.research.google.com/notebooks/data_table.ipynb>data table notebook</a>'\n",
              "            + ' to learn more about interactive tables.';\n",
              "          element.innerHTML = '';\n",
              "          dataTable['output_type'] = 'display_data';\n",
              "          await google.colab.output.renderOutput(dataTable, element);\n",
              "          const docLink = document.createElement('div');\n",
              "          docLink.innerHTML = docLinkHtml;\n",
              "          element.appendChild(docLink);\n",
              "        }\n",
              "      </script>\n",
              "    </div>\n",
              "  </div>\n",
              "  "
            ],
            "text/plain": [
              "                                         DFCIMRN  ...     Age\n",
              "MyChartStatusDSC                                  ...        \n",
              "0                                         259759  ...  259759\n",
              "Activated                                 253965  ...  253965\n",
              "Activation Code Generated, but Disabled       27  ...      27\n",
              "Inactivated                                46142  ...   46142\n",
              "Non Standard MyChart Status                41865  ...   41865\n",
              "Patient Declined                           11893  ...   11893\n",
              "Pending Activation                         85781  ...   85781\n",
              "\n",
              "[7 rows x 9 columns]"
            ]
          },
          "metadata": {},
          "execution_count": 21
        }
      ]
    },
    {
      "cell_type": "code",
      "source": [
        "df_null = df[df['MyChartStatusDSC'] == 0]\n",
        "df_null.groupby('RaceDSC').count()\n"
      ],
      "metadata": {
        "colab": {
          "base_uri": "https://localhost:8080/",
          "height": 426
        },
        "id": "jKn6GuANoCj3",
        "outputId": "ddf60000-961e-48d6-b7cf-f7e3e699927e"
      },
      "execution_count": null,
      "outputs": [
        {
          "output_type": "execute_result",
          "data": {
            "text/html": [
              "\n",
              "  <div id=\"df-f6ed8e5d-fde0-4a3a-be2d-748daa943568\">\n",
              "    <div class=\"colab-df-container\">\n",
              "      <div>\n",
              "<style scoped>\n",
              "    .dataframe tbody tr th:only-of-type {\n",
              "        vertical-align: middle;\n",
              "    }\n",
              "\n",
              "    .dataframe tbody tr th {\n",
              "        vertical-align: top;\n",
              "    }\n",
              "\n",
              "    .dataframe thead th {\n",
              "        text-align: right;\n",
              "    }\n",
              "</style>\n",
              "<table border=\"1\" class=\"dataframe\">\n",
              "  <thead>\n",
              "    <tr style=\"text-align: right;\">\n",
              "      <th></th>\n",
              "      <th>DFCIMRN</th>\n",
              "      <th>GenderDSC</th>\n",
              "      <th>SelfIdentifiedGenderDSC</th>\n",
              "      <th>InterpreterRequiredFLG</th>\n",
              "      <th>PrimaryLanguageNM</th>\n",
              "      <th>EthnicityNM</th>\n",
              "      <th>MyChartStatusDSC</th>\n",
              "      <th>MilesFromLongwoodRange</th>\n",
              "      <th>Age</th>\n",
              "    </tr>\n",
              "    <tr>\n",
              "      <th>RaceDSC</th>\n",
              "      <th></th>\n",
              "      <th></th>\n",
              "      <th></th>\n",
              "      <th></th>\n",
              "      <th></th>\n",
              "      <th></th>\n",
              "      <th></th>\n",
              "      <th></th>\n",
              "      <th></th>\n",
              "    </tr>\n",
              "  </thead>\n",
              "  <tbody>\n",
              "    <tr>\n",
              "      <th>American Indian or Alaska Native</th>\n",
              "      <td>250</td>\n",
              "      <td>250</td>\n",
              "      <td>250</td>\n",
              "      <td>250</td>\n",
              "      <td>250</td>\n",
              "      <td>250</td>\n",
              "      <td>250</td>\n",
              "      <td>250</td>\n",
              "      <td>250</td>\n",
              "    </tr>\n",
              "    <tr>\n",
              "      <th>Asian</th>\n",
              "      <td>6124</td>\n",
              "      <td>6124</td>\n",
              "      <td>6124</td>\n",
              "      <td>6124</td>\n",
              "      <td>6124</td>\n",
              "      <td>6124</td>\n",
              "      <td>6124</td>\n",
              "      <td>6124</td>\n",
              "      <td>6124</td>\n",
              "    </tr>\n",
              "    <tr>\n",
              "      <th>Black or African American</th>\n",
              "      <td>13540</td>\n",
              "      <td>13540</td>\n",
              "      <td>13540</td>\n",
              "      <td>13540</td>\n",
              "      <td>13540</td>\n",
              "      <td>13540</td>\n",
              "      <td>13540</td>\n",
              "      <td>13540</td>\n",
              "      <td>13540</td>\n",
              "    </tr>\n",
              "    <tr>\n",
              "      <th>Declined</th>\n",
              "      <td>2361</td>\n",
              "      <td>2361</td>\n",
              "      <td>2361</td>\n",
              "      <td>2361</td>\n",
              "      <td>2361</td>\n",
              "      <td>2361</td>\n",
              "      <td>2361</td>\n",
              "      <td>2361</td>\n",
              "      <td>2361</td>\n",
              "    </tr>\n",
              "    <tr>\n",
              "      <th>Hispanic or Latino</th>\n",
              "      <td>7</td>\n",
              "      <td>7</td>\n",
              "      <td>7</td>\n",
              "      <td>7</td>\n",
              "      <td>7</td>\n",
              "      <td>7</td>\n",
              "      <td>7</td>\n",
              "      <td>7</td>\n",
              "      <td>7</td>\n",
              "    </tr>\n",
              "    <tr>\n",
              "      <th>Native Hawaiian or Other Pacific Islander</th>\n",
              "      <td>98</td>\n",
              "      <td>98</td>\n",
              "      <td>98</td>\n",
              "      <td>98</td>\n",
              "      <td>98</td>\n",
              "      <td>98</td>\n",
              "      <td>98</td>\n",
              "      <td>98</td>\n",
              "      <td>98</td>\n",
              "    </tr>\n",
              "    <tr>\n",
              "      <th>Other</th>\n",
              "      <td>10743</td>\n",
              "      <td>10743</td>\n",
              "      <td>10743</td>\n",
              "      <td>10743</td>\n",
              "      <td>10743</td>\n",
              "      <td>10743</td>\n",
              "      <td>10743</td>\n",
              "      <td>10743</td>\n",
              "      <td>10743</td>\n",
              "    </tr>\n",
              "    <tr>\n",
              "      <th>Other-Specify</th>\n",
              "      <td>17294</td>\n",
              "      <td>17294</td>\n",
              "      <td>17294</td>\n",
              "      <td>17294</td>\n",
              "      <td>17294</td>\n",
              "      <td>17294</td>\n",
              "      <td>17294</td>\n",
              "      <td>17294</td>\n",
              "      <td>17294</td>\n",
              "    </tr>\n",
              "    <tr>\n",
              "      <th>Unavailable</th>\n",
              "      <td>56646</td>\n",
              "      <td>56646</td>\n",
              "      <td>56646</td>\n",
              "      <td>56646</td>\n",
              "      <td>56646</td>\n",
              "      <td>56646</td>\n",
              "      <td>56646</td>\n",
              "      <td>56646</td>\n",
              "      <td>56646</td>\n",
              "    </tr>\n",
              "    <tr>\n",
              "      <th>White</th>\n",
              "      <td>104182</td>\n",
              "      <td>104182</td>\n",
              "      <td>104182</td>\n",
              "      <td>104182</td>\n",
              "      <td>104182</td>\n",
              "      <td>104182</td>\n",
              "      <td>104182</td>\n",
              "      <td>104182</td>\n",
              "      <td>104182</td>\n",
              "    </tr>\n",
              "    <tr>\n",
              "      <th>White or Caucasian</th>\n",
              "      <td>48514</td>\n",
              "      <td>48514</td>\n",
              "      <td>48514</td>\n",
              "      <td>48514</td>\n",
              "      <td>48514</td>\n",
              "      <td>48514</td>\n",
              "      <td>48514</td>\n",
              "      <td>48514</td>\n",
              "      <td>48514</td>\n",
              "    </tr>\n",
              "  </tbody>\n",
              "</table>\n",
              "</div>\n",
              "      <button class=\"colab-df-convert\" onclick=\"convertToInteractive('df-f6ed8e5d-fde0-4a3a-be2d-748daa943568')\"\n",
              "              title=\"Convert this dataframe to an interactive table.\"\n",
              "              style=\"display:none;\">\n",
              "        \n",
              "  <svg xmlns=\"http://www.w3.org/2000/svg\" height=\"24px\"viewBox=\"0 0 24 24\"\n",
              "       width=\"24px\">\n",
              "    <path d=\"M0 0h24v24H0V0z\" fill=\"none\"/>\n",
              "    <path d=\"M18.56 5.44l.94 2.06.94-2.06 2.06-.94-2.06-.94-.94-2.06-.94 2.06-2.06.94zm-11 1L8.5 8.5l.94-2.06 2.06-.94-2.06-.94L8.5 2.5l-.94 2.06-2.06.94zm10 10l.94 2.06.94-2.06 2.06-.94-2.06-.94-.94-2.06-.94 2.06-2.06.94z\"/><path d=\"M17.41 7.96l-1.37-1.37c-.4-.4-.92-.59-1.43-.59-.52 0-1.04.2-1.43.59L10.3 9.45l-7.72 7.72c-.78.78-.78 2.05 0 2.83L4 21.41c.39.39.9.59 1.41.59.51 0 1.02-.2 1.41-.59l7.78-7.78 2.81-2.81c.8-.78.8-2.07 0-2.86zM5.41 20L4 18.59l7.72-7.72 1.47 1.35L5.41 20z\"/>\n",
              "  </svg>\n",
              "      </button>\n",
              "      \n",
              "  <style>\n",
              "    .colab-df-container {\n",
              "      display:flex;\n",
              "      flex-wrap:wrap;\n",
              "      gap: 12px;\n",
              "    }\n",
              "\n",
              "    .colab-df-convert {\n",
              "      background-color: #E8F0FE;\n",
              "      border: none;\n",
              "      border-radius: 50%;\n",
              "      cursor: pointer;\n",
              "      display: none;\n",
              "      fill: #1967D2;\n",
              "      height: 32px;\n",
              "      padding: 0 0 0 0;\n",
              "      width: 32px;\n",
              "    }\n",
              "\n",
              "    .colab-df-convert:hover {\n",
              "      background-color: #E2EBFA;\n",
              "      box-shadow: 0px 1px 2px rgba(60, 64, 67, 0.3), 0px 1px 3px 1px rgba(60, 64, 67, 0.15);\n",
              "      fill: #174EA6;\n",
              "    }\n",
              "\n",
              "    [theme=dark] .colab-df-convert {\n",
              "      background-color: #3B4455;\n",
              "      fill: #D2E3FC;\n",
              "    }\n",
              "\n",
              "    [theme=dark] .colab-df-convert:hover {\n",
              "      background-color: #434B5C;\n",
              "      box-shadow: 0px 1px 3px 1px rgba(0, 0, 0, 0.15);\n",
              "      filter: drop-shadow(0px 1px 2px rgba(0, 0, 0, 0.3));\n",
              "      fill: #FFFFFF;\n",
              "    }\n",
              "  </style>\n",
              "\n",
              "      <script>\n",
              "        const buttonEl =\n",
              "          document.querySelector('#df-f6ed8e5d-fde0-4a3a-be2d-748daa943568 button.colab-df-convert');\n",
              "        buttonEl.style.display =\n",
              "          google.colab.kernel.accessAllowed ? 'block' : 'none';\n",
              "\n",
              "        async function convertToInteractive(key) {\n",
              "          const element = document.querySelector('#df-f6ed8e5d-fde0-4a3a-be2d-748daa943568');\n",
              "          const dataTable =\n",
              "            await google.colab.kernel.invokeFunction('convertToInteractive',\n",
              "                                                     [key], {});\n",
              "          if (!dataTable) return;\n",
              "\n",
              "          const docLinkHtml = 'Like what you see? Visit the ' +\n",
              "            '<a target=\"_blank\" href=https://colab.research.google.com/notebooks/data_table.ipynb>data table notebook</a>'\n",
              "            + ' to learn more about interactive tables.';\n",
              "          element.innerHTML = '';\n",
              "          dataTable['output_type'] = 'display_data';\n",
              "          await google.colab.output.renderOutput(dataTable, element);\n",
              "          const docLink = document.createElement('div');\n",
              "          docLink.innerHTML = docLinkHtml;\n",
              "          element.appendChild(docLink);\n",
              "        }\n",
              "      </script>\n",
              "    </div>\n",
              "  </div>\n",
              "  "
            ],
            "text/plain": [
              "                                           DFCIMRN  ...     Age\n",
              "RaceDSC                                             ...        \n",
              "American Indian or Alaska Native               250  ...     250\n",
              "Asian                                         6124  ...    6124\n",
              "Black or African American                    13540  ...   13540\n",
              "Declined                                      2361  ...    2361\n",
              "Hispanic or Latino                               7  ...       7\n",
              "Native Hawaiian or Other Pacific Islander       98  ...      98\n",
              "Other                                        10743  ...   10743\n",
              "Other-Specify                                17294  ...   17294\n",
              "Unavailable                                  56646  ...   56646\n",
              "White                                       104182  ...  104182\n",
              "White or Caucasian                           48514  ...   48514\n",
              "\n",
              "[11 rows x 9 columns]"
            ]
          },
          "metadata": {},
          "execution_count": 28
        }
      ]
    },
    {
      "cell_type": "code",
      "source": [
        "df_q.shape"
      ],
      "metadata": {
        "colab": {
          "base_uri": "https://localhost:8080/"
        },
        "id": "oPU8_9rfvL6Z",
        "outputId": "f55119d0-85dc-45d4-a7e7-b98aa58a1ac2"
      },
      "execution_count": null,
      "outputs": [
        {
          "output_type": "execute_result",
          "data": {
            "text/plain": [
              "(452179, 9)"
            ]
          },
          "metadata": {},
          "execution_count": 14
        }
      ]
    },
    {
      "cell_type": "code",
      "source": [
        "df_q = df_q.sort_values(by=['DFCIMRN','QuestionID'])"
      ],
      "metadata": {
        "id": "UYqw78ce965H"
      },
      "execution_count": null,
      "outputs": []
    },
    {
      "cell_type": "code",
      "source": [
        "df_q.nunique()"
      ],
      "metadata": {
        "colab": {
          "base_uri": "https://localhost:8080/"
        },
        "id": "kgFE7UDoA5ne",
        "outputId": "7de1c708-8e6a-4f44-f846-354a3b1814ed"
      },
      "execution_count": null,
      "outputs": [
        {
          "output_type": "execute_result",
          "data": {
            "text/plain": [
              "DFCIMRN                       138859\n",
              "RootQuestionnaireID                2\n",
              "RootQuestionnaireNM                2\n",
              "RootAnswerID                   40115\n",
              "QuestionID                        10\n",
              "QuestionTXT                       10\n",
              "AnswerTXT                         58\n",
              "AnswerMethodDSC                    3\n",
              "RootQuestionnaireStatusDSC         7\n",
              "dtype: int64"
            ]
          },
          "metadata": {},
          "execution_count": 16
        }
      ]
    },
    {
      "cell_type": "code",
      "source": [
        "# using issubset() to\n",
        "# check subset of list\n",
        "flag = 0\n",
        "if(set(df_q['DFCIMRN']).issubset(df['DFCIMRN'])):\n",
        "    flag = 1\n",
        " \n",
        "# printing result\n",
        "if (flag):\n",
        "    print(\"Yes, list is subset of other.\")\n",
        "else:\n",
        "    print(\"No, list is not subset of other.\")"
      ],
      "metadata": {
        "colab": {
          "base_uri": "https://localhost:8080/"
        },
        "id": "D_dqqru_D-Qg",
        "outputId": "ae8f241e-1203-438c-a59a-47c23f001de9"
      },
      "execution_count": null,
      "outputs": [
        {
          "output_type": "stream",
          "name": "stdout",
          "text": [
            "Yes, list is subset of other.\n"
          ]
        }
      ]
    },
    {
      "cell_type": "code",
      "source": [
        "df_q.head()"
      ],
      "metadata": {
        "colab": {
          "base_uri": "https://localhost:8080/",
          "height": 461
        },
        "id": "gFWJzTDIEZy7",
        "outputId": "8b56b67d-0598-4f43-cb35-a6cc9a350fc7"
      },
      "execution_count": null,
      "outputs": [
        {
          "output_type": "execute_result",
          "data": {
            "text/html": [
              "\n",
              "  <div id=\"df-0c5a5bd2-8f55-48c7-8f03-21e8e624ce85\">\n",
              "    <div class=\"colab-df-container\">\n",
              "      <div>\n",
              "<style scoped>\n",
              "    .dataframe tbody tr th:only-of-type {\n",
              "        vertical-align: middle;\n",
              "    }\n",
              "\n",
              "    .dataframe tbody tr th {\n",
              "        vertical-align: top;\n",
              "    }\n",
              "\n",
              "    .dataframe thead th {\n",
              "        text-align: right;\n",
              "    }\n",
              "</style>\n",
              "<table border=\"1\" class=\"dataframe\">\n",
              "  <thead>\n",
              "    <tr style=\"text-align: right;\">\n",
              "      <th></th>\n",
              "      <th>DFCIMRN</th>\n",
              "      <th>RootQuestionnaireID</th>\n",
              "      <th>RootQuestionnaireNM</th>\n",
              "      <th>RootAnswerID</th>\n",
              "      <th>QuestionID</th>\n",
              "      <th>QuestionTXT</th>\n",
              "      <th>AnswerTXT</th>\n",
              "      <th>AnswerMethodDSC</th>\n",
              "      <th>RootQuestionnaireStatusDSC</th>\n",
              "    </tr>\n",
              "  </thead>\n",
              "  <tbody>\n",
              "    <tr>\n",
              "      <th>1203</th>\n",
              "      <td>0x0000000399C6AEA5AD0C709A9BC331A3ED6494702BD1...</td>\n",
              "      <td>1461111101</td>\n",
              "      <td>ONC DF PATIENT INTAKE SURVEY</td>\n",
              "      <td>NaN</td>\n",
              "      <td>NaN</td>\n",
              "      <td>NaN</td>\n",
              "      <td>NaN</td>\n",
              "      <td>NaN</td>\n",
              "      <td>Assigned</td>\n",
              "    </tr>\n",
              "    <tr>\n",
              "      <th>0</th>\n",
              "      <td>0x00000691457F4F0CE13E187B9AB4FDA6D42C86477529...</td>\n",
              "      <td>1461111101</td>\n",
              "      <td>ONC DF PATIENT INTAKE SURVEY</td>\n",
              "      <td>NaN</td>\n",
              "      <td>NaN</td>\n",
              "      <td>NaN</td>\n",
              "      <td>NaN</td>\n",
              "      <td>NaN</td>\n",
              "      <td>Assigned</td>\n",
              "    </tr>\n",
              "    <tr>\n",
              "      <th>1172</th>\n",
              "      <td>0x00005CF59973A6AFAFC92F1BB42476B0395F127790FF...</td>\n",
              "      <td>1461111101</td>\n",
              "      <td>ONC DF PATIENT INTAKE SURVEY</td>\n",
              "      <td>0x366B838AD00EE751BAD3D56FD9678A27618345584B9E...</td>\n",
              "      <td>124254.0</td>\n",
              "      <td>How confident are you filling out medical forms?</td>\n",
              "      <td>Extremely</td>\n",
              "      <td>MyChart</td>\n",
              "      <td>Completed</td>\n",
              "    </tr>\n",
              "    <tr>\n",
              "      <th>1359</th>\n",
              "      <td>0x00005CF59973A6AFAFC92F1BB42476B0395F127790FF...</td>\n",
              "      <td>1461111101</td>\n",
              "      <td>ONC DF PATIENT INTAKE SURVEY</td>\n",
              "      <td>0x366B838AD00EE751BAD3D56FD9678A27618345584B9E...</td>\n",
              "      <td>124255.0</td>\n",
              "      <td>How confident are you in understanding medical...</td>\n",
              "      <td>Extremely</td>\n",
              "      <td>MyChart</td>\n",
              "      <td>Completed</td>\n",
              "    </tr>\n",
              "    <tr>\n",
              "      <th>983</th>\n",
              "      <td>0x00005CF59973A6AFAFC92F1BB42476B0395F127790FF...</td>\n",
              "      <td>1461111101</td>\n",
              "      <td>ONC DF PATIENT INTAKE SURVEY</td>\n",
              "      <td>0x366B838AD00EE751BAD3D56FD9678A27618345584B9E...</td>\n",
              "      <td>124256.0</td>\n",
              "      <td>Did you complete this survey on your own?</td>\n",
              "      <td>Y</td>\n",
              "      <td>MyChart</td>\n",
              "      <td>Completed</td>\n",
              "    </tr>\n",
              "  </tbody>\n",
              "</table>\n",
              "</div>\n",
              "      <button class=\"colab-df-convert\" onclick=\"convertToInteractive('df-0c5a5bd2-8f55-48c7-8f03-21e8e624ce85')\"\n",
              "              title=\"Convert this dataframe to an interactive table.\"\n",
              "              style=\"display:none;\">\n",
              "        \n",
              "  <svg xmlns=\"http://www.w3.org/2000/svg\" height=\"24px\"viewBox=\"0 0 24 24\"\n",
              "       width=\"24px\">\n",
              "    <path d=\"M0 0h24v24H0V0z\" fill=\"none\"/>\n",
              "    <path d=\"M18.56 5.44l.94 2.06.94-2.06 2.06-.94-2.06-.94-.94-2.06-.94 2.06-2.06.94zm-11 1L8.5 8.5l.94-2.06 2.06-.94-2.06-.94L8.5 2.5l-.94 2.06-2.06.94zm10 10l.94 2.06.94-2.06 2.06-.94-2.06-.94-.94-2.06-.94 2.06-2.06.94z\"/><path d=\"M17.41 7.96l-1.37-1.37c-.4-.4-.92-.59-1.43-.59-.52 0-1.04.2-1.43.59L10.3 9.45l-7.72 7.72c-.78.78-.78 2.05 0 2.83L4 21.41c.39.39.9.59 1.41.59.51 0 1.02-.2 1.41-.59l7.78-7.78 2.81-2.81c.8-.78.8-2.07 0-2.86zM5.41 20L4 18.59l7.72-7.72 1.47 1.35L5.41 20z\"/>\n",
              "  </svg>\n",
              "      </button>\n",
              "      \n",
              "  <style>\n",
              "    .colab-df-container {\n",
              "      display:flex;\n",
              "      flex-wrap:wrap;\n",
              "      gap: 12px;\n",
              "    }\n",
              "\n",
              "    .colab-df-convert {\n",
              "      background-color: #E8F0FE;\n",
              "      border: none;\n",
              "      border-radius: 50%;\n",
              "      cursor: pointer;\n",
              "      display: none;\n",
              "      fill: #1967D2;\n",
              "      height: 32px;\n",
              "      padding: 0 0 0 0;\n",
              "      width: 32px;\n",
              "    }\n",
              "\n",
              "    .colab-df-convert:hover {\n",
              "      background-color: #E2EBFA;\n",
              "      box-shadow: 0px 1px 2px rgba(60, 64, 67, 0.3), 0px 1px 3px 1px rgba(60, 64, 67, 0.15);\n",
              "      fill: #174EA6;\n",
              "    }\n",
              "\n",
              "    [theme=dark] .colab-df-convert {\n",
              "      background-color: #3B4455;\n",
              "      fill: #D2E3FC;\n",
              "    }\n",
              "\n",
              "    [theme=dark] .colab-df-convert:hover {\n",
              "      background-color: #434B5C;\n",
              "      box-shadow: 0px 1px 3px 1px rgba(0, 0, 0, 0.15);\n",
              "      filter: drop-shadow(0px 1px 2px rgba(0, 0, 0, 0.3));\n",
              "      fill: #FFFFFF;\n",
              "    }\n",
              "  </style>\n",
              "\n",
              "      <script>\n",
              "        const buttonEl =\n",
              "          document.querySelector('#df-0c5a5bd2-8f55-48c7-8f03-21e8e624ce85 button.colab-df-convert');\n",
              "        buttonEl.style.display =\n",
              "          google.colab.kernel.accessAllowed ? 'block' : 'none';\n",
              "\n",
              "        async function convertToInteractive(key) {\n",
              "          const element = document.querySelector('#df-0c5a5bd2-8f55-48c7-8f03-21e8e624ce85');\n",
              "          const dataTable =\n",
              "            await google.colab.kernel.invokeFunction('convertToInteractive',\n",
              "                                                     [key], {});\n",
              "          if (!dataTable) return;\n",
              "\n",
              "          const docLinkHtml = 'Like what you see? Visit the ' +\n",
              "            '<a target=\"_blank\" href=https://colab.research.google.com/notebooks/data_table.ipynb>data table notebook</a>'\n",
              "            + ' to learn more about interactive tables.';\n",
              "          element.innerHTML = '';\n",
              "          dataTable['output_type'] = 'display_data';\n",
              "          await google.colab.output.renderOutput(dataTable, element);\n",
              "          const docLink = document.createElement('div');\n",
              "          docLink.innerHTML = docLinkHtml;\n",
              "          element.appendChild(docLink);\n",
              "        }\n",
              "      </script>\n",
              "    </div>\n",
              "  </div>\n",
              "  "
            ],
            "text/plain": [
              "                                                DFCIMRN  ...  RootQuestionnaireStatusDSC\n",
              "1203  0x0000000399C6AEA5AD0C709A9BC331A3ED6494702BD1...  ...                    Assigned\n",
              "0     0x00000691457F4F0CE13E187B9AB4FDA6D42C86477529...  ...                    Assigned\n",
              "1172  0x00005CF59973A6AFAFC92F1BB42476B0395F127790FF...  ...                   Completed\n",
              "1359  0x00005CF59973A6AFAFC92F1BB42476B0395F127790FF...  ...                   Completed\n",
              "983   0x00005CF59973A6AFAFC92F1BB42476B0395F127790FF...  ...                   Completed\n",
              "\n",
              "[5 rows x 9 columns]"
            ]
          },
          "metadata": {},
          "execution_count": 8
        }
      ]
    },
    {
      "cell_type": "code",
      "source": [
        "#check unique values in each column\n",
        "df_q.columns"
      ],
      "metadata": {
        "colab": {
          "base_uri": "https://localhost:8080/"
        },
        "id": "fouhRorJEwvx",
        "outputId": "3af2c37a-20fc-42cc-c4a4-34c129470d6b"
      },
      "execution_count": null,
      "outputs": [
        {
          "output_type": "execute_result",
          "data": {
            "text/plain": [
              "Index(['DFCIMRN', 'RootQuestionnaireID', 'RootQuestionnaireNM', 'RootAnswerID',\n",
              "       'QuestionID', 'QuestionTXT', 'AnswerTXT', 'AnswerMethodDSC',\n",
              "       'RootQuestionnaireStatusDSC'],\n",
              "      dtype='object')"
            ]
          },
          "metadata": {},
          "execution_count": 9
        }
      ]
    },
    {
      "cell_type": "code",
      "source": [
        "#check unique values in each column\n",
        "{c:df_q[c].unique() for c in df_q.columns}"
      ],
      "metadata": {
        "colab": {
          "base_uri": "https://localhost:8080/"
        },
        "id": "__Chzp_LFFFW",
        "outputId": "d03f108c-3b8d-44ba-e0fb-fdf65faa71fd"
      },
      "execution_count": null,
      "outputs": [
        {
          "output_type": "execute_result",
          "data": {
            "text/plain": [
              "{'AnswerMethodDSC': array([nan, 'MyChart', 'Welcome', 'EpicCare'], dtype=object),\n",
              " 'AnswerTXT': array([nan, 'Extremely', 'Y', 'No', 'Not at all difficult', 'Excellent',\n",
              "        '34.9', '50.8', 'Very Good', '45.8', '32.4', 'Quite a bit',\n",
              "        'Somewhat', 'Yes', 'Not very difficult', 'Good', '19.9', '33.8',\n",
              "        '53.3', '29.6', '41.1', 'A little bit', '44.9', '59', '57.7',\n",
              "        '67.6', '48.3', '39.8', '67.7', '62.5', '54.1', 'Fair', '37.4',\n",
              "        '47.7', '56', '43.5', '16.2', '31.3', 'Somewhat difficult', '38.8',\n",
              "        '26.7', 'Incomplete', 'N', 'A family member or friend', '36.3',\n",
              "        'Not at all', 'Very difficult', '25.1', 'Poor', '61.9',\n",
              "        'Extremely difficult', '28.4', '21.2', '23.5', '42.3', 'Other',\n",
              "        'A translator', 'A clinic staff member',\n",
              "        'A health care professional'], dtype=object),\n",
              " 'DFCIMRN': array(['0x0000000399C6AEA5AD0C709A9BC331A3ED6494702BD1D129D8C817A0257A1462',\n",
              "        '0x00000691457F4F0CE13E187B9AB4FDA6D42C8647752909B8F71F9DBD8F6BD4AB',\n",
              "        '0x00005CF59973A6AFAFC92F1BB42476B0395F127790FF1D84F3EF108AC9E07F91',\n",
              "        ...,\n",
              "        '0xFFFF82371649D3328062F0BFC4C0D2AFB65DAD838F1D7E9698779A397D3B6294',\n",
              "        '0xFFFFA4AE84CF631DA320A0C0DD95EBB039065C698593CF0A395F8FEB3F3FFC0F',\n",
              "        '0xFFFFF6EE97FBE6BA8C293A31F7F179ADF6E28926CBA27B0F6D43A27BD4C2E11C'],\n",
              "       dtype=object),\n",
              " 'QuestionID': array([           nan, 1.24254000e+05, 1.24255000e+05, 1.24256000e+05,\n",
              "        1.24259000e+05, 1.24262000e+05, 1.40000177e+09, 1.40000178e+09,\n",
              "        1.40000179e+09, 1.40000179e+09, 1.24257000e+05]),\n",
              " 'QuestionTXT': array([nan, 'How confident are you filling out medical forms?',\n",
              "        'How confident are you in understanding medical statistics?',\n",
              "        'Did you complete this survey on your own?',\n",
              "        'Do you currently live alone?',\n",
              "        \"How difficult is it for you (your family) to meet monthly payments on your (family's) bills?\",\n",
              "        'In general, how would you rate your satisfaction with your social activities and relationships?',\n",
              "        'In general, please rate how well you carry out your usual social activities and roles. (This includes activities at home, at work and in your community, and responsibilities as a parent, child, spouse, employee, friend, etc.)',\n",
              "        'PROMs PROMIS Global Health Short Form Score (Physical)',\n",
              "        'PROMs PROMIS Global Health Short Form Score (Mental)',\n",
              "        'Who assisted you with completing this survey?'], dtype=object),\n",
              " 'RootAnswerID': array([nan,\n",
              "        '0x366B838AD00EE751BAD3D56FD9678A27618345584B9E816DA6DBD69A6A058882',\n",
              "        '0x954316ABA9F34591C234E84168BF411022007BD8BFDCC95A7A7CB4D666A80B6B',\n",
              "        ...,\n",
              "        '0x049E15551556AE67FD8F0C459D676653BDD3B5564D0AF97E635F447CD881D89D',\n",
              "        '0x1D13E35E8D8A6FD8A517340BC03290BF09D77208B5985338EA2D66DD832EDF95',\n",
              "        '0x74511860897EDA274E5CF78BD2335457F3440DB74BA6704C2C4AD5F42F9CE3F4'],\n",
              "       dtype=object),\n",
              " 'RootQuestionnaireID': array([ 1461111101, 14611111013]),\n",
              " 'RootQuestionnaireNM': array(['ONC DF PATIENT INTAKE SURVEY',\n",
              "        'ONC DF PATIENT INTAKE SURVEY W/O FAM HX'], dtype=object),\n",
              " 'RootQuestionnaireStatusDSC': array(['Assigned', 'Completed', 'Incomplete', 'Started at home',\n",
              "        'Started in facility', 'Temporarily hidden', 'Reviewable'],\n",
              "       dtype=object)}"
            ]
          },
          "metadata": {},
          "execution_count": 10
        }
      ]
    },
    {
      "cell_type": "code",
      "source": [
        "df_q.head()"
      ],
      "metadata": {
        "colab": {
          "base_uri": "https://localhost:8080/",
          "height": 461
        },
        "id": "KcG3gK9sFV4P",
        "outputId": "b5ee35c6-fa75-4c14-91a1-a17d6d58146a"
      },
      "execution_count": null,
      "outputs": [
        {
          "output_type": "execute_result",
          "data": {
            "text/html": [
              "\n",
              "  <div id=\"df-352d6678-6421-4ba5-b309-1575510d831f\">\n",
              "    <div class=\"colab-df-container\">\n",
              "      <div>\n",
              "<style scoped>\n",
              "    .dataframe tbody tr th:only-of-type {\n",
              "        vertical-align: middle;\n",
              "    }\n",
              "\n",
              "    .dataframe tbody tr th {\n",
              "        vertical-align: top;\n",
              "    }\n",
              "\n",
              "    .dataframe thead th {\n",
              "        text-align: right;\n",
              "    }\n",
              "</style>\n",
              "<table border=\"1\" class=\"dataframe\">\n",
              "  <thead>\n",
              "    <tr style=\"text-align: right;\">\n",
              "      <th></th>\n",
              "      <th>DFCIMRN</th>\n",
              "      <th>RootQuestionnaireID</th>\n",
              "      <th>RootQuestionnaireNM</th>\n",
              "      <th>RootAnswerID</th>\n",
              "      <th>QuestionID</th>\n",
              "      <th>QuestionTXT</th>\n",
              "      <th>AnswerTXT</th>\n",
              "      <th>AnswerMethodDSC</th>\n",
              "      <th>RootQuestionnaireStatusDSC</th>\n",
              "    </tr>\n",
              "  </thead>\n",
              "  <tbody>\n",
              "    <tr>\n",
              "      <th>1203</th>\n",
              "      <td>0x0000000399C6AEA5AD0C709A9BC331A3ED6494702BD1...</td>\n",
              "      <td>1461111101</td>\n",
              "      <td>ONC DF PATIENT INTAKE SURVEY</td>\n",
              "      <td>NaN</td>\n",
              "      <td>NaN</td>\n",
              "      <td>NaN</td>\n",
              "      <td>NaN</td>\n",
              "      <td>NaN</td>\n",
              "      <td>Assigned</td>\n",
              "    </tr>\n",
              "    <tr>\n",
              "      <th>0</th>\n",
              "      <td>0x00000691457F4F0CE13E187B9AB4FDA6D42C86477529...</td>\n",
              "      <td>1461111101</td>\n",
              "      <td>ONC DF PATIENT INTAKE SURVEY</td>\n",
              "      <td>NaN</td>\n",
              "      <td>NaN</td>\n",
              "      <td>NaN</td>\n",
              "      <td>NaN</td>\n",
              "      <td>NaN</td>\n",
              "      <td>Assigned</td>\n",
              "    </tr>\n",
              "    <tr>\n",
              "      <th>1172</th>\n",
              "      <td>0x00005CF59973A6AFAFC92F1BB42476B0395F127790FF...</td>\n",
              "      <td>1461111101</td>\n",
              "      <td>ONC DF PATIENT INTAKE SURVEY</td>\n",
              "      <td>0x366B838AD00EE751BAD3D56FD9678A27618345584B9E...</td>\n",
              "      <td>124254.0</td>\n",
              "      <td>How confident are you filling out medical forms?</td>\n",
              "      <td>Extremely</td>\n",
              "      <td>MyChart</td>\n",
              "      <td>Completed</td>\n",
              "    </tr>\n",
              "    <tr>\n",
              "      <th>1359</th>\n",
              "      <td>0x00005CF59973A6AFAFC92F1BB42476B0395F127790FF...</td>\n",
              "      <td>1461111101</td>\n",
              "      <td>ONC DF PATIENT INTAKE SURVEY</td>\n",
              "      <td>0x366B838AD00EE751BAD3D56FD9678A27618345584B9E...</td>\n",
              "      <td>124255.0</td>\n",
              "      <td>How confident are you in understanding medical...</td>\n",
              "      <td>Extremely</td>\n",
              "      <td>MyChart</td>\n",
              "      <td>Completed</td>\n",
              "    </tr>\n",
              "    <tr>\n",
              "      <th>983</th>\n",
              "      <td>0x00005CF59973A6AFAFC92F1BB42476B0395F127790FF...</td>\n",
              "      <td>1461111101</td>\n",
              "      <td>ONC DF PATIENT INTAKE SURVEY</td>\n",
              "      <td>0x366B838AD00EE751BAD3D56FD9678A27618345584B9E...</td>\n",
              "      <td>124256.0</td>\n",
              "      <td>Did you complete this survey on your own?</td>\n",
              "      <td>Y</td>\n",
              "      <td>MyChart</td>\n",
              "      <td>Completed</td>\n",
              "    </tr>\n",
              "  </tbody>\n",
              "</table>\n",
              "</div>\n",
              "      <button class=\"colab-df-convert\" onclick=\"convertToInteractive('df-352d6678-6421-4ba5-b309-1575510d831f')\"\n",
              "              title=\"Convert this dataframe to an interactive table.\"\n",
              "              style=\"display:none;\">\n",
              "        \n",
              "  <svg xmlns=\"http://www.w3.org/2000/svg\" height=\"24px\"viewBox=\"0 0 24 24\"\n",
              "       width=\"24px\">\n",
              "    <path d=\"M0 0h24v24H0V0z\" fill=\"none\"/>\n",
              "    <path d=\"M18.56 5.44l.94 2.06.94-2.06 2.06-.94-2.06-.94-.94-2.06-.94 2.06-2.06.94zm-11 1L8.5 8.5l.94-2.06 2.06-.94-2.06-.94L8.5 2.5l-.94 2.06-2.06.94zm10 10l.94 2.06.94-2.06 2.06-.94-2.06-.94-.94-2.06-.94 2.06-2.06.94z\"/><path d=\"M17.41 7.96l-1.37-1.37c-.4-.4-.92-.59-1.43-.59-.52 0-1.04.2-1.43.59L10.3 9.45l-7.72 7.72c-.78.78-.78 2.05 0 2.83L4 21.41c.39.39.9.59 1.41.59.51 0 1.02-.2 1.41-.59l7.78-7.78 2.81-2.81c.8-.78.8-2.07 0-2.86zM5.41 20L4 18.59l7.72-7.72 1.47 1.35L5.41 20z\"/>\n",
              "  </svg>\n",
              "      </button>\n",
              "      \n",
              "  <style>\n",
              "    .colab-df-container {\n",
              "      display:flex;\n",
              "      flex-wrap:wrap;\n",
              "      gap: 12px;\n",
              "    }\n",
              "\n",
              "    .colab-df-convert {\n",
              "      background-color: #E8F0FE;\n",
              "      border: none;\n",
              "      border-radius: 50%;\n",
              "      cursor: pointer;\n",
              "      display: none;\n",
              "      fill: #1967D2;\n",
              "      height: 32px;\n",
              "      padding: 0 0 0 0;\n",
              "      width: 32px;\n",
              "    }\n",
              "\n",
              "    .colab-df-convert:hover {\n",
              "      background-color: #E2EBFA;\n",
              "      box-shadow: 0px 1px 2px rgba(60, 64, 67, 0.3), 0px 1px 3px 1px rgba(60, 64, 67, 0.15);\n",
              "      fill: #174EA6;\n",
              "    }\n",
              "\n",
              "    [theme=dark] .colab-df-convert {\n",
              "      background-color: #3B4455;\n",
              "      fill: #D2E3FC;\n",
              "    }\n",
              "\n",
              "    [theme=dark] .colab-df-convert:hover {\n",
              "      background-color: #434B5C;\n",
              "      box-shadow: 0px 1px 3px 1px rgba(0, 0, 0, 0.15);\n",
              "      filter: drop-shadow(0px 1px 2px rgba(0, 0, 0, 0.3));\n",
              "      fill: #FFFFFF;\n",
              "    }\n",
              "  </style>\n",
              "\n",
              "      <script>\n",
              "        const buttonEl =\n",
              "          document.querySelector('#df-352d6678-6421-4ba5-b309-1575510d831f button.colab-df-convert');\n",
              "        buttonEl.style.display =\n",
              "          google.colab.kernel.accessAllowed ? 'block' : 'none';\n",
              "\n",
              "        async function convertToInteractive(key) {\n",
              "          const element = document.querySelector('#df-352d6678-6421-4ba5-b309-1575510d831f');\n",
              "          const dataTable =\n",
              "            await google.colab.kernel.invokeFunction('convertToInteractive',\n",
              "                                                     [key], {});\n",
              "          if (!dataTable) return;\n",
              "\n",
              "          const docLinkHtml = 'Like what you see? Visit the ' +\n",
              "            '<a target=\"_blank\" href=https://colab.research.google.com/notebooks/data_table.ipynb>data table notebook</a>'\n",
              "            + ' to learn more about interactive tables.';\n",
              "          element.innerHTML = '';\n",
              "          dataTable['output_type'] = 'display_data';\n",
              "          await google.colab.output.renderOutput(dataTable, element);\n",
              "          const docLink = document.createElement('div');\n",
              "          docLink.innerHTML = docLinkHtml;\n",
              "          element.appendChild(docLink);\n",
              "        }\n",
              "      </script>\n",
              "    </div>\n",
              "  </div>\n",
              "  "
            ],
            "text/plain": [
              "                                                DFCIMRN  ...  RootQuestionnaireStatusDSC\n",
              "1203  0x0000000399C6AEA5AD0C709A9BC331A3ED6494702BD1...  ...                    Assigned\n",
              "0     0x00000691457F4F0CE13E187B9AB4FDA6D42C86477529...  ...                    Assigned\n",
              "1172  0x00005CF59973A6AFAFC92F1BB42476B0395F127790FF...  ...                   Completed\n",
              "1359  0x00005CF59973A6AFAFC92F1BB42476B0395F127790FF...  ...                   Completed\n",
              "983   0x00005CF59973A6AFAFC92F1BB42476B0395F127790FF...  ...                   Completed\n",
              "\n",
              "[5 rows x 9 columns]"
            ]
          },
          "metadata": {},
          "execution_count": 11
        }
      ]
    },
    {
      "cell_type": "code",
      "source": [
        "#if drop those with null QuestionID \n",
        "df_qs = df_q.dropna(subset=['QuestionID'],inplace=False)"
      ],
      "metadata": {
        "id": "58MQE1x7d8MU"
      },
      "execution_count": null,
      "outputs": []
    },
    {
      "cell_type": "code",
      "source": [
        "df_q.shape"
      ],
      "metadata": {
        "colab": {
          "base_uri": "https://localhost:8080/"
        },
        "id": "UDcajOSGxFJv",
        "outputId": "27baf608-68dd-4baa-908a-ea6717d5512f"
      },
      "execution_count": null,
      "outputs": [
        {
          "output_type": "execute_result",
          "data": {
            "text/plain": [
              "(452179, 9)"
            ]
          },
          "metadata": {},
          "execution_count": 13
        }
      ]
    },
    {
      "cell_type": "code",
      "source": [
        "df_qs.shape"
      ],
      "metadata": {
        "colab": {
          "base_uri": "https://localhost:8080/"
        },
        "id": "L4m4zh2PfAti",
        "outputId": "00f26eb1-effe-4dc0-c686-5b0bcebcc470"
      },
      "execution_count": null,
      "outputs": [
        {
          "output_type": "execute_result",
          "data": {
            "text/plain": [
              "(333676, 9)"
            ]
          },
          "metadata": {},
          "execution_count": 14
        }
      ]
    },
    {
      "cell_type": "code",
      "source": [
        "df_qs.isnull().sum()"
      ],
      "metadata": {
        "colab": {
          "base_uri": "https://localhost:8080/"
        },
        "id": "K3ASdna7hil7",
        "outputId": "39e4d8ba-f9ad-4438-e21c-4d46a011e699"
      },
      "execution_count": null,
      "outputs": [
        {
          "output_type": "execute_result",
          "data": {
            "text/plain": [
              "DFCIMRN                          0\n",
              "RootQuestionnaireID              0\n",
              "RootQuestionnaireNM              0\n",
              "RootAnswerID                     0\n",
              "QuestionID                       0\n",
              "QuestionTXT                      0\n",
              "AnswerTXT                     5080\n",
              "AnswerMethodDSC                206\n",
              "RootQuestionnaireStatusDSC       0\n",
              "dtype: int64"
            ]
          },
          "metadata": {},
          "execution_count": 15
        }
      ]
    },
    {
      "cell_type": "code",
      "source": [
        "df_qs['DFCIMRN'].nunique()"
      ],
      "metadata": {
        "colab": {
          "base_uri": "https://localhost:8080/"
        },
        "id": "Lzlzujd7iMd4",
        "outputId": "94008c01-524b-40e5-b803-b5a06b96ede6"
      },
      "execution_count": null,
      "outputs": [
        {
          "output_type": "execute_result",
          "data": {
            "text/plain": [
              "36695"
            ]
          },
          "metadata": {},
          "execution_count": 16
        }
      ]
    },
    {
      "cell_type": "code",
      "source": [
        "#Check and make sure question id and Question Text are 1v1 and find how they are paired\n",
        "for id in df_qs['QuestionID'].unique():\n",
        "  print({id:(df_qs[df_qs['QuestionID']==id]['QuestionTXT'].unique())[0]})"
      ],
      "metadata": {
        "colab": {
          "base_uri": "https://localhost:8080/"
        },
        "id": "Nc-PVVp5nTbv",
        "outputId": "3f68144e-f550-44c2-de7b-4389122ddf12"
      },
      "execution_count": null,
      "outputs": [
        {
          "output_type": "stream",
          "name": "stdout",
          "text": [
            "{124254.0: 'How confident are you filling out medical forms?'}\n",
            "{124255.0: 'How confident are you in understanding medical statistics?'}\n",
            "{124256.0: 'Did you complete this survey on your own?'}\n",
            "{124259.0: 'Do you currently live alone?'}\n",
            "{124262.0: \"How difficult is it for you (your family) to meet monthly payments on your (family's) bills?\"}\n",
            "{1400001772.0: 'In general, how would you rate your satisfaction with your social activities and relationships?'}\n",
            "{1400001776.0: 'In general, please rate how well you carry out your usual social activities and roles. (This includes activities at home, at work and in your community, and responsibilities as a parent, child, spouse, employee, friend, etc.)'}\n",
            "{1400001787.0: 'PROMs PROMIS Global Health Short Form Score (Physical)'}\n",
            "{1400001788.0: 'PROMs PROMIS Global Health Short Form Score (Mental)'}\n",
            "{124257.0: 'Who assisted you with completing this survey?'}\n"
          ]
        }
      ]
    },
    {
      "cell_type": "code",
      "source": [
        "sns.countplot(df_qs['QuestionID'])\n",
        "plt.xticks(rotation = 'vertical')"
      ],
      "metadata": {
        "colab": {
          "base_uri": "https://localhost:8080/",
          "height": 431
        },
        "id": "O7m9lnc70Hgi",
        "outputId": "c85a0d63-2643-46bd-f43b-1998ba911cc9"
      },
      "execution_count": null,
      "outputs": [
        {
          "output_type": "stream",
          "name": "stderr",
          "text": [
            "/usr/local/lib/python3.7/dist-packages/seaborn/_decorators.py:43: FutureWarning: Pass the following variable as a keyword arg: x. From version 0.12, the only valid positional argument will be `data`, and passing other arguments without an explicit keyword will result in an error or misinterpretation.\n",
            "  FutureWarning\n"
          ]
        },
        {
          "output_type": "execute_result",
          "data": {
            "text/plain": [
              "(array([0, 1, 2, 3, 4, 5, 6, 7, 8, 9]),\n",
              " <a list of 10 Text major ticklabel objects>)"
            ]
          },
          "metadata": {},
          "execution_count": 19
        },
        {
          "output_type": "display_data",
          "data": {
            "image/png": "[encoded data removed]",
            "text/plain": [
              "<Figure size 432x288 with 1 Axes>"
            ]
          },
          "metadata": {
            "needs_background": "light"
          }
        }
      ]
    },
    {
      "cell_type": "code",
      "source": [
        "sns.countplot(df_qs['RootQuestionnaireStatusDSC'])"
      ],
      "metadata": {
        "colab": {
          "base_uri": "https://localhost:8080/",
          "height": 351
        },
        "id": "Oj8QfsJAhBdF",
        "outputId": "e196fcd8-77c2-4697-8e9e-0f4dea57f27f"
      },
      "execution_count": null,
      "outputs": [
        {
          "output_type": "stream",
          "name": "stderr",
          "text": [
            "/usr/local/lib/python3.7/dist-packages/seaborn/_decorators.py:43: FutureWarning: Pass the following variable as a keyword arg: x. From version 0.12, the only valid positional argument will be `data`, and passing other arguments without an explicit keyword will result in an error or misinterpretation.\n",
            "  FutureWarning\n"
          ]
        },
        {
          "output_type": "execute_result",
          "data": {
            "text/plain": [
              "<matplotlib.axes._subplots.AxesSubplot at 0x7f3af5ee4f50>"
            ]
          },
          "metadata": {},
          "execution_count": 20
        },
        {
          "output_type": "display_data",
          "data": {
            "image/png": "[encoded data removed]",
            "text/plain": [
              "<Figure size 432x288 with 1 Axes>"
            ]
          },
          "metadata": {
            "needs_background": "light"
          }
        }
      ]
    },
    {
      "cell_type": "code",
      "source": [
        "#One example of some people may have answered the questionnaire more than once and provided different answers at different times\n",
        "df_qs[df_qs['DFCIMRN']=='0x39D95C6DE6584ED3DAB1B1701F0E47285757730DBFE5DE93FD1EA1D07DE81716']"
      ],
      "metadata": {
        "colab": {
          "base_uri": "https://localhost:8080/",
          "height": 1000
        },
        "id": "tlrXLGzGPs4v",
        "outputId": "bdc7ae65-c129-415b-f6c3-8716a07d4f34"
      },
      "execution_count": null,
      "outputs": [
        {
          "output_type": "execute_result",
          "data": {
            "text/html": [
              "\n",
              "  <div id=\"df-3ff6cd51-c08d-4d73-bc84-740408bad20a\">\n",
              "    <div class=\"colab-df-container\">\n",
              "      <div>\n",
              "<style scoped>\n",
              "    .dataframe tbody tr th:only-of-type {\n",
              "        vertical-align: middle;\n",
              "    }\n",
              "\n",
              "    .dataframe tbody tr th {\n",
              "        vertical-align: top;\n",
              "    }\n",
              "\n",
              "    .dataframe thead th {\n",
              "        text-align: right;\n",
              "    }\n",
              "</style>\n",
              "<table border=\"1\" class=\"dataframe\">\n",
              "  <thead>\n",
              "    <tr style=\"text-align: right;\">\n",
              "      <th></th>\n",
              "      <th>DFCIMRN</th>\n",
              "      <th>RootQuestionnaireID</th>\n",
              "      <th>RootQuestionnaireNM</th>\n",
              "      <th>RootAnswerID</th>\n",
              "      <th>QuestionID</th>\n",
              "      <th>QuestionTXT</th>\n",
              "      <th>AnswerTXT</th>\n",
              "      <th>AnswerMethodDSC</th>\n",
              "      <th>RootQuestionnaireStatusDSC</th>\n",
              "    </tr>\n",
              "  </thead>\n",
              "  <tbody>\n",
              "    <tr>\n",
              "      <th>98332</th>\n",
              "      <td>0x39D95C6DE6584ED3DAB1B1701F0E47285757730DBFE5...</td>\n",
              "      <td>1461111101</td>\n",
              "      <td>ONC DF PATIENT INTAKE SURVEY</td>\n",
              "      <td>0x00F7F681624478A53929EBAB0DEC3484C16D6CB11EBA...</td>\n",
              "      <td>1.242540e+05</td>\n",
              "      <td>How confident are you filling out medical forms?</td>\n",
              "      <td>Extremely</td>\n",
              "      <td>Welcome</td>\n",
              "      <td>Completed</td>\n",
              "    </tr>\n",
              "    <tr>\n",
              "      <th>160162</th>\n",
              "      <td>0x39D95C6DE6584ED3DAB1B1701F0E47285757730DBFE5...</td>\n",
              "      <td>1461111101</td>\n",
              "      <td>ONC DF PATIENT INTAKE SURVEY</td>\n",
              "      <td>0x00F7F681624478A53929EBAB0DEC3484C16D6CB11EBA...</td>\n",
              "      <td>1.242540e+05</td>\n",
              "      <td>How confident are you filling out medical forms?</td>\n",
              "      <td>Extremely</td>\n",
              "      <td>MyChart</td>\n",
              "      <td>Completed</td>\n",
              "    </tr>\n",
              "    <tr>\n",
              "      <th>98379</th>\n",
              "      <td>0x39D95C6DE6584ED3DAB1B1701F0E47285757730DBFE5...</td>\n",
              "      <td>1461111101</td>\n",
              "      <td>ONC DF PATIENT INTAKE SURVEY</td>\n",
              "      <td>0x00F7F681624478A53929EBAB0DEC3484C16D6CB11EBA...</td>\n",
              "      <td>1.242550e+05</td>\n",
              "      <td>How confident are you in understanding medical...</td>\n",
              "      <td>Extremely</td>\n",
              "      <td>MyChart</td>\n",
              "      <td>Completed</td>\n",
              "    </tr>\n",
              "    <tr>\n",
              "      <th>99327</th>\n",
              "      <td>0x39D95C6DE6584ED3DAB1B1701F0E47285757730DBFE5...</td>\n",
              "      <td>1461111101</td>\n",
              "      <td>ONC DF PATIENT INTAKE SURVEY</td>\n",
              "      <td>0x00F7F681624478A53929EBAB0DEC3484C16D6CB11EBA...</td>\n",
              "      <td>1.242550e+05</td>\n",
              "      <td>How confident are you in understanding medical...</td>\n",
              "      <td>Extremely</td>\n",
              "      <td>Welcome</td>\n",
              "      <td>Completed</td>\n",
              "    </tr>\n",
              "    <tr>\n",
              "      <th>98380</th>\n",
              "      <td>0x39D95C6DE6584ED3DAB1B1701F0E47285757730DBFE5...</td>\n",
              "      <td>1461111101</td>\n",
              "      <td>ONC DF PATIENT INTAKE SURVEY</td>\n",
              "      <td>0x00F7F681624478A53929EBAB0DEC3484C16D6CB11EBA...</td>\n",
              "      <td>1.242560e+05</td>\n",
              "      <td>Did you complete this survey on your own?</td>\n",
              "      <td>Y</td>\n",
              "      <td>Welcome</td>\n",
              "      <td>Completed</td>\n",
              "    </tr>\n",
              "    <tr>\n",
              "      <th>98750</th>\n",
              "      <td>0x39D95C6DE6584ED3DAB1B1701F0E47285757730DBFE5...</td>\n",
              "      <td>1461111101</td>\n",
              "      <td>ONC DF PATIENT INTAKE SURVEY</td>\n",
              "      <td>0x00F7F681624478A53929EBAB0DEC3484C16D6CB11EBA...</td>\n",
              "      <td>1.242560e+05</td>\n",
              "      <td>Did you complete this survey on your own?</td>\n",
              "      <td>Y</td>\n",
              "      <td>MyChart</td>\n",
              "      <td>Completed</td>\n",
              "    </tr>\n",
              "    <tr>\n",
              "      <th>98333</th>\n",
              "      <td>0x39D95C6DE6584ED3DAB1B1701F0E47285757730DBFE5...</td>\n",
              "      <td>1461111101</td>\n",
              "      <td>ONC DF PATIENT INTAKE SURVEY</td>\n",
              "      <td>0x00F7F681624478A53929EBAB0DEC3484C16D6CB11EBA...</td>\n",
              "      <td>1.242590e+05</td>\n",
              "      <td>Do you currently live alone?</td>\n",
              "      <td>No</td>\n",
              "      <td>Welcome</td>\n",
              "      <td>Completed</td>\n",
              "    </tr>\n",
              "    <tr>\n",
              "      <th>98381</th>\n",
              "      <td>0x39D95C6DE6584ED3DAB1B1701F0E47285757730DBFE5...</td>\n",
              "      <td>1461111101</td>\n",
              "      <td>ONC DF PATIENT INTAKE SURVEY</td>\n",
              "      <td>0x00F7F681624478A53929EBAB0DEC3484C16D6CB11EBA...</td>\n",
              "      <td>1.242590e+05</td>\n",
              "      <td>Do you currently live alone?</td>\n",
              "      <td>No</td>\n",
              "      <td>MyChart</td>\n",
              "      <td>Completed</td>\n",
              "    </tr>\n",
              "    <tr>\n",
              "      <th>99236</th>\n",
              "      <td>0x39D95C6DE6584ED3DAB1B1701F0E47285757730DBFE5...</td>\n",
              "      <td>1461111101</td>\n",
              "      <td>ONC DF PATIENT INTAKE SURVEY</td>\n",
              "      <td>0x00F7F681624478A53929EBAB0DEC3484C16D6CB11EBA...</td>\n",
              "      <td>1.242620e+05</td>\n",
              "      <td>How difficult is it for you (your family) to m...</td>\n",
              "      <td>NaN</td>\n",
              "      <td>Welcome</td>\n",
              "      <td>Completed</td>\n",
              "    </tr>\n",
              "    <tr>\n",
              "      <th>98334</th>\n",
              "      <td>0x39D95C6DE6584ED3DAB1B1701F0E47285757730DBFE5...</td>\n",
              "      <td>1461111101</td>\n",
              "      <td>ONC DF PATIENT INTAKE SURVEY</td>\n",
              "      <td>0x00F7F681624478A53929EBAB0DEC3484C16D6CB11EBA...</td>\n",
              "      <td>1.400002e+09</td>\n",
              "      <td>In general, how would you rate your satisfacti...</td>\n",
              "      <td>Very Good</td>\n",
              "      <td>Welcome</td>\n",
              "      <td>Completed</td>\n",
              "    </tr>\n",
              "    <tr>\n",
              "      <th>98916</th>\n",
              "      <td>0x39D95C6DE6584ED3DAB1B1701F0E47285757730DBFE5...</td>\n",
              "      <td>1461111101</td>\n",
              "      <td>ONC DF PATIENT INTAKE SURVEY</td>\n",
              "      <td>0x00F7F681624478A53929EBAB0DEC3484C16D6CB11EBA...</td>\n",
              "      <td>1.400002e+09</td>\n",
              "      <td>In general, please rate how well you carry out...</td>\n",
              "      <td>Good</td>\n",
              "      <td>Welcome</td>\n",
              "      <td>Completed</td>\n",
              "    </tr>\n",
              "    <tr>\n",
              "      <th>160163</th>\n",
              "      <td>0x39D95C6DE6584ED3DAB1B1701F0E47285757730DBFE5...</td>\n",
              "      <td>1461111101</td>\n",
              "      <td>ONC DF PATIENT INTAKE SURVEY</td>\n",
              "      <td>0x00F7F681624478A53929EBAB0DEC3484C16D6CB11EBA...</td>\n",
              "      <td>1.400002e+09</td>\n",
              "      <td>PROMs PROMIS Global Health Short Form Score (P...</td>\n",
              "      <td>32.4</td>\n",
              "      <td>Welcome</td>\n",
              "      <td>Completed</td>\n",
              "    </tr>\n",
              "    <tr>\n",
              "      <th>98382</th>\n",
              "      <td>0x39D95C6DE6584ED3DAB1B1701F0E47285757730DBFE5...</td>\n",
              "      <td>1461111101</td>\n",
              "      <td>ONC DF PATIENT INTAKE SURVEY</td>\n",
              "      <td>0x00F7F681624478A53929EBAB0DEC3484C16D6CB11EBA...</td>\n",
              "      <td>1.400002e+09</td>\n",
              "      <td>PROMs PROMIS Global Health Short Form Score (M...</td>\n",
              "      <td>38.8</td>\n",
              "      <td>Welcome</td>\n",
              "      <td>Completed</td>\n",
              "    </tr>\n",
              "  </tbody>\n",
              "</table>\n",
              "</div>\n",
              "      <button class=\"colab-df-convert\" onclick=\"convertToInteractive('df-3ff6cd51-c08d-4d73-bc84-740408bad20a')\"\n",
              "              title=\"Convert this dataframe to an interactive table.\"\n",
              "              style=\"display:none;\">\n",
              "        \n",
              "  <svg xmlns=\"http://www.w3.org/2000/svg\" height=\"24px\"viewBox=\"0 0 24 24\"\n",
              "       width=\"24px\">\n",
              "    <path d=\"M0 0h24v24H0V0z\" fill=\"none\"/>\n",
              "    <path d=\"M18.56 5.44l.94 2.06.94-2.06 2.06-.94-2.06-.94-.94-2.06-.94 2.06-2.06.94zm-11 1L8.5 8.5l.94-2.06 2.06-.94-2.06-.94L8.5 2.5l-.94 2.06-2.06.94zm10 10l.94 2.06.94-2.06 2.06-.94-2.06-.94-.94-2.06-.94 2.06-2.06.94z\"/><path d=\"M17.41 7.96l-1.37-1.37c-.4-.4-.92-.59-1.43-.59-.52 0-1.04.2-1.43.59L10.3 9.45l-7.72 7.72c-.78.78-.78 2.05 0 2.83L4 21.41c.39.39.9.59 1.41.59.51 0 1.02-.2 1.41-.59l7.78-7.78 2.81-2.81c.8-.78.8-2.07 0-2.86zM5.41 20L4 18.59l7.72-7.72 1.47 1.35L5.41 20z\"/>\n",
              "  </svg>\n",
              "      </button>\n",
              "      \n",
              "  <style>\n",
              "    .colab-df-container {\n",
              "      display:flex;\n",
              "      flex-wrap:wrap;\n",
              "      gap: 12px;\n",
              "    }\n",
              "\n",
              "    .colab-df-convert {\n",
              "      background-color: #E8F0FE;\n",
              "      border: none;\n",
              "      border-radius: 50%;\n",
              "      cursor: pointer;\n",
              "      display: none;\n",
              "      fill: #1967D2;\n",
              "      height: 32px;\n",
              "      padding: 0 0 0 0;\n",
              "      width: 32px;\n",
              "    }\n",
              "\n",
              "    .colab-df-convert:hover {\n",
              "      background-color: #E2EBFA;\n",
              "      box-shadow: 0px 1px 2px rgba(60, 64, 67, 0.3), 0px 1px 3px 1px rgba(60, 64, 67, 0.15);\n",
              "      fill: #174EA6;\n",
              "    }\n",
              "\n",
              "    [theme=dark] .colab-df-convert {\n",
              "      background-color: #3B4455;\n",
              "      fill: #D2E3FC;\n",
              "    }\n",
              "\n",
              "    [theme=dark] .colab-df-convert:hover {\n",
              "      background-color: #434B5C;\n",
              "      box-shadow: 0px 1px 3px 1px rgba(0, 0, 0, 0.15);\n",
              "      filter: drop-shadow(0px 1px 2px rgba(0, 0, 0, 0.3));\n",
              "      fill: #FFFFFF;\n",
              "    }\n",
              "  </style>\n",
              "\n",
              "      <script>\n",
              "        const buttonEl =\n",
              "          document.querySelector('#df-3ff6cd51-c08d-4d73-bc84-740408bad20a button.colab-df-convert');\n",
              "        buttonEl.style.display =\n",
              "          google.colab.kernel.accessAllowed ? 'block' : 'none';\n",
              "\n",
              "        async function convertToInteractive(key) {\n",
              "          const element = document.querySelector('#df-3ff6cd51-c08d-4d73-bc84-740408bad20a');\n",
              "          const dataTable =\n",
              "            await google.colab.kernel.invokeFunction('convertToInteractive',\n",
              "                                                     [key], {});\n",
              "          if (!dataTable) return;\n",
              "\n",
              "          const docLinkHtml = 'Like what you see? Visit the ' +\n",
              "            '<a target=\"_blank\" href=https://colab.research.google.com/notebooks/data_table.ipynb>data table notebook</a>'\n",
              "            + ' to learn more about interactive tables.';\n",
              "          element.innerHTML = '';\n",
              "          dataTable['output_type'] = 'display_data';\n",
              "          await google.colab.output.renderOutput(dataTable, element);\n",
              "          const docLink = document.createElement('div');\n",
              "          docLink.innerHTML = docLinkHtml;\n",
              "          element.appendChild(docLink);\n",
              "        }\n",
              "      </script>\n",
              "    </div>\n",
              "  </div>\n",
              "  "
            ],
            "text/plain": [
              "                                                  DFCIMRN  ...  RootQuestionnaireStatusDSC\n",
              "98332   0x39D95C6DE6584ED3DAB1B1701F0E47285757730DBFE5...  ...                   Completed\n",
              "160162  0x39D95C6DE6584ED3DAB1B1701F0E47285757730DBFE5...  ...                   Completed\n",
              "98379   0x39D95C6DE6584ED3DAB1B1701F0E47285757730DBFE5...  ...                   Completed\n",
              "99327   0x39D95C6DE6584ED3DAB1B1701F0E47285757730DBFE5...  ...                   Completed\n",
              "98380   0x39D95C6DE6584ED3DAB1B1701F0E47285757730DBFE5...  ...                   Completed\n",
              "98750   0x39D95C6DE6584ED3DAB1B1701F0E47285757730DBFE5...  ...                   Completed\n",
              "98333   0x39D95C6DE6584ED3DAB1B1701F0E47285757730DBFE5...  ...                   Completed\n",
              "98381   0x39D95C6DE6584ED3DAB1B1701F0E47285757730DBFE5...  ...                   Completed\n",
              "99236   0x39D95C6DE6584ED3DAB1B1701F0E47285757730DBFE5...  ...                   Completed\n",
              "98334   0x39D95C6DE6584ED3DAB1B1701F0E47285757730DBFE5...  ...                   Completed\n",
              "98916   0x39D95C6DE6584ED3DAB1B1701F0E47285757730DBFE5...  ...                   Completed\n",
              "160163  0x39D95C6DE6584ED3DAB1B1701F0E47285757730DBFE5...  ...                   Completed\n",
              "98382   0x39D95C6DE6584ED3DAB1B1701F0E47285757730DBFE5...  ...                   Completed\n",
              "\n",
              "[13 rows x 9 columns]"
            ]
          },
          "metadata": {},
          "execution_count": 21
        }
      ]
    },
    {
      "cell_type": "code",
      "source": [
        "df_qs.groupby('RootQuestionnaireStatusDSC').count()"
      ],
      "metadata": {
        "colab": {
          "base_uri": "https://localhost:8080/",
          "height": 206
        },
        "id": "vmUDC1zSh4KH",
        "outputId": "f40e1771-4265-4da7-d7d8-3a5b41b37087"
      },
      "execution_count": null,
      "outputs": [
        {
          "output_type": "execute_result",
          "data": {
            "text/html": [
              "\n",
              "  <div id=\"df-b25f1edc-c133-4243-b5fc-6b02d483ef0f\">\n",
              "    <div class=\"colab-df-container\">\n",
              "      <div>\n",
              "<style scoped>\n",
              "    .dataframe tbody tr th:only-of-type {\n",
              "        vertical-align: middle;\n",
              "    }\n",
              "\n",
              "    .dataframe tbody tr th {\n",
              "        vertical-align: top;\n",
              "    }\n",
              "\n",
              "    .dataframe thead th {\n",
              "        text-align: right;\n",
              "    }\n",
              "</style>\n",
              "<table border=\"1\" class=\"dataframe\">\n",
              "  <thead>\n",
              "    <tr style=\"text-align: right;\">\n",
              "      <th></th>\n",
              "      <th>DFCIMRN</th>\n",
              "      <th>RootQuestionnaireID</th>\n",
              "      <th>RootQuestionnaireNM</th>\n",
              "      <th>RootAnswerID</th>\n",
              "      <th>QuestionID</th>\n",
              "      <th>QuestionTXT</th>\n",
              "      <th>AnswerTXT</th>\n",
              "      <th>AnswerMethodDSC</th>\n",
              "    </tr>\n",
              "    <tr>\n",
              "      <th>RootQuestionnaireStatusDSC</th>\n",
              "      <th></th>\n",
              "      <th></th>\n",
              "      <th></th>\n",
              "      <th></th>\n",
              "      <th></th>\n",
              "      <th></th>\n",
              "      <th></th>\n",
              "      <th></th>\n",
              "    </tr>\n",
              "  </thead>\n",
              "  <tbody>\n",
              "    <tr>\n",
              "      <th>Completed</th>\n",
              "      <td>315199</td>\n",
              "      <td>315199</td>\n",
              "      <td>315199</td>\n",
              "      <td>315199</td>\n",
              "      <td>315199</td>\n",
              "      <td>315199</td>\n",
              "      <td>312230</td>\n",
              "      <td>315173</td>\n",
              "    </tr>\n",
              "    <tr>\n",
              "      <th>Incomplete</th>\n",
              "      <td>3725</td>\n",
              "      <td>3725</td>\n",
              "      <td>3725</td>\n",
              "      <td>3725</td>\n",
              "      <td>3725</td>\n",
              "      <td>3725</td>\n",
              "      <td>3553</td>\n",
              "      <td>3556</td>\n",
              "    </tr>\n",
              "    <tr>\n",
              "      <th>Reviewable</th>\n",
              "      <td>10953</td>\n",
              "      <td>10953</td>\n",
              "      <td>10953</td>\n",
              "      <td>10953</td>\n",
              "      <td>10953</td>\n",
              "      <td>10953</td>\n",
              "      <td>10834</td>\n",
              "      <td>10942</td>\n",
              "    </tr>\n",
              "    <tr>\n",
              "      <th>Started in facility</th>\n",
              "      <td>3799</td>\n",
              "      <td>3799</td>\n",
              "      <td>3799</td>\n",
              "      <td>3799</td>\n",
              "      <td>3799</td>\n",
              "      <td>3799</td>\n",
              "      <td>1979</td>\n",
              "      <td>3799</td>\n",
              "    </tr>\n",
              "  </tbody>\n",
              "</table>\n",
              "</div>\n",
              "      <button class=\"colab-df-convert\" onclick=\"convertToInteractive('df-b25f1edc-c133-4243-b5fc-6b02d483ef0f')\"\n",
              "              title=\"Convert this dataframe to an interactive table.\"\n",
              "              style=\"display:none;\">\n",
              "        \n",
              "  <svg xmlns=\"http://www.w3.org/2000/svg\" height=\"24px\"viewBox=\"0 0 24 24\"\n",
              "       width=\"24px\">\n",
              "    <path d=\"M0 0h24v24H0V0z\" fill=\"none\"/>\n",
              "    <path d=\"M18.56 5.44l.94 2.06.94-2.06 2.06-.94-2.06-.94-.94-2.06-.94 2.06-2.06.94zm-11 1L8.5 8.5l.94-2.06 2.06-.94-2.06-.94L8.5 2.5l-.94 2.06-2.06.94zm10 10l.94 2.06.94-2.06 2.06-.94-2.06-.94-.94-2.06-.94 2.06-2.06.94z\"/><path d=\"M17.41 7.96l-1.37-1.37c-.4-.4-.92-.59-1.43-.59-.52 0-1.04.2-1.43.59L10.3 9.45l-7.72 7.72c-.78.78-.78 2.05 0 2.83L4 21.41c.39.39.9.59 1.41.59.51 0 1.02-.2 1.41-.59l7.78-7.78 2.81-2.81c.8-.78.8-2.07 0-2.86zM5.41 20L4 18.59l7.72-7.72 1.47 1.35L5.41 20z\"/>\n",
              "  </svg>\n",
              "      </button>\n",
              "      \n",
              "  <style>\n",
              "    .colab-df-container {\n",
              "      display:flex;\n",
              "      flex-wrap:wrap;\n",
              "      gap: 12px;\n",
              "    }\n",
              "\n",
              "    .colab-df-convert {\n",
              "      background-color: #E8F0FE;\n",
              "      border: none;\n",
              "      border-radius: 50%;\n",
              "      cursor: pointer;\n",
              "      display: none;\n",
              "      fill: #1967D2;\n",
              "      height: 32px;\n",
              "      padding: 0 0 0 0;\n",
              "      width: 32px;\n",
              "    }\n",
              "\n",
              "    .colab-df-convert:hover {\n",
              "      background-color: #E2EBFA;\n",
              "      box-shadow: 0px 1px 2px rgba(60, 64, 67, 0.3), 0px 1px 3px 1px rgba(60, 64, 67, 0.15);\n",
              "      fill: #174EA6;\n",
              "    }\n",
              "\n",
              "    [theme=dark] .colab-df-convert {\n",
              "      background-color: #3B4455;\n",
              "      fill: #D2E3FC;\n",
              "    }\n",
              "\n",
              "    [theme=dark] .colab-df-convert:hover {\n",
              "      background-color: #434B5C;\n",
              "      box-shadow: 0px 1px 3px 1px rgba(0, 0, 0, 0.15);\n",
              "      filter: drop-shadow(0px 1px 2px rgba(0, 0, 0, 0.3));\n",
              "      fill: #FFFFFF;\n",
              "    }\n",
              "  </style>\n",
              "\n",
              "      <script>\n",
              "        const buttonEl =\n",
              "          document.querySelector('#df-b25f1edc-c133-4243-b5fc-6b02d483ef0f button.colab-df-convert');\n",
              "        buttonEl.style.display =\n",
              "          google.colab.kernel.accessAllowed ? 'block' : 'none';\n",
              "\n",
              "        async function convertToInteractive(key) {\n",
              "          const element = document.querySelector('#df-b25f1edc-c133-4243-b5fc-6b02d483ef0f');\n",
              "          const dataTable =\n",
              "            await google.colab.kernel.invokeFunction('convertToInteractive',\n",
              "                                                     [key], {});\n",
              "          if (!dataTable) return;\n",
              "\n",
              "          const docLinkHtml = 'Like what you see? Visit the ' +\n",
              "            '<a target=\"_blank\" href=https://colab.research.google.com/notebooks/data_table.ipynb>data table notebook</a>'\n",
              "            + ' to learn more about interactive tables.';\n",
              "          element.innerHTML = '';\n",
              "          dataTable['output_type'] = 'display_data';\n",
              "          await google.colab.output.renderOutput(dataTable, element);\n",
              "          const docLink = document.createElement('div');\n",
              "          docLink.innerHTML = docLinkHtml;\n",
              "          element.appendChild(docLink);\n",
              "        }\n",
              "      </script>\n",
              "    </div>\n",
              "  </div>\n",
              "  "
            ],
            "text/plain": [
              "                            DFCIMRN  ...  AnswerMethodDSC\n",
              "RootQuestionnaireStatusDSC           ...                 \n",
              "Completed                    315199  ...           315173\n",
              "Incomplete                     3725  ...             3556\n",
              "Reviewable                    10953  ...            10942\n",
              "Started in facility            3799  ...             3799\n",
              "\n",
              "[4 rows x 8 columns]"
            ]
          },
          "metadata": {},
          "execution_count": 91
        }
      ]
    },
    {
      "cell_type": "code",
      "source": [
        "#filter and keep those who completed the survey (94%)\n",
        "df_qs_comp = df_qs[df_qs['RootQuestionnaireStatusDSC'].isin(['Completed'])]"
      ],
      "metadata": {
        "id": "ln31BTchjHBU"
      },
      "execution_count": null,
      "outputs": []
    },
    {
      "cell_type": "code",
      "source": [
        "df_qs_comp.shape"
      ],
      "metadata": {
        "colab": {
          "base_uri": "https://localhost:8080/"
        },
        "id": "o8cfFKvNUSYh",
        "outputId": "8f19b199-0b09-481a-e1d6-00c8ed9827af"
      },
      "execution_count": null,
      "outputs": [
        {
          "output_type": "execute_result",
          "data": {
            "text/plain": [
              "(315199, 9)"
            ]
          },
          "metadata": {},
          "execution_count": 95
        }
      ]
    },
    {
      "cell_type": "code",
      "source": [
        "df_qs_comp['DFCIMRN'].nunique()"
      ],
      "metadata": {
        "colab": {
          "base_uri": "https://localhost:8080/"
        },
        "id": "lZ3sXDrnUoKg",
        "outputId": "2e947f07-3532-4f4c-e7ab-992ef8a8a015"
      },
      "execution_count": null,
      "outputs": [
        {
          "output_type": "execute_result",
          "data": {
            "text/plain": [
              "34597"
            ]
          },
          "metadata": {},
          "execution_count": 97
        }
      ]
    },
    {
      "cell_type": "code",
      "source": [
        "df_q_pivot = df_qs_comp.pivot(index=['DFCIMRN','RootQuestionnaireID','RootAnswerID','AnswerMethodDSC','RootQuestionnaireStatusDSC'],columns=['QuestionID'],values='AnswerTXT')"
      ],
      "metadata": {
        "id": "V3oqWWpF6pGe"
      },
      "execution_count": null,
      "outputs": []
    },
    {
      "cell_type": "code",
      "source": [
        "npiq = df_q_pivot.reset_index()"
      ],
      "metadata": {
        "id": "xfq8aiPxl7hb"
      },
      "execution_count": null,
      "outputs": []
    },
    {
      "cell_type": "code",
      "source": [
        "npiq.columns"
      ],
      "metadata": {
        "colab": {
          "base_uri": "https://localhost:8080/"
        },
        "id": "zntIgCQ_ljR7",
        "outputId": "545157e6-267b-45db-908f-89870bb24da1"
      },
      "execution_count": null,
      "outputs": [
        {
          "output_type": "execute_result",
          "data": {
            "text/plain": [
              "Index([                   'DFCIMRN',        'RootQuestionnaireID',\n",
              "                     'RootAnswerID',            'AnswerMethodDSC',\n",
              "       'RootQuestionnaireStatusDSC',                     124254.0,\n",
              "                           124255.0,                     124256.0,\n",
              "                           124257.0,                     124259.0,\n",
              "                           124262.0,                 1400001772.0,\n",
              "                       1400001776.0,                 1400001787.0,\n",
              "                       1400001788.0],\n",
              "      dtype='object', name='QuestionID')"
            ]
          },
          "metadata": {},
          "execution_count": 104
        }
      ]
    },
    {
      "cell_type": "code",
      "source": [
        "npiq.isnull().sum()"
      ],
      "metadata": {
        "colab": {
          "base_uri": "https://localhost:8080/"
        },
        "id": "xCwYEWiwiK-C",
        "outputId": "af937620-ac62-416e-cf7a-84f17fec0910"
      },
      "execution_count": null,
      "outputs": [
        {
          "output_type": "execute_result",
          "data": {
            "text/plain": [
              "QuestionID\n",
              "DFCIMRN                           0\n",
              "RootQuestionnaireID               0\n",
              "RootAnswerID                      0\n",
              "AnswerMethodDSC                   8\n",
              "RootQuestionnaireStatusDSC        0\n",
              "124254.0                        456\n",
              "124255.0                        918\n",
              "124256.0                        694\n",
              "124257.0                      33328\n",
              "124259.0                        214\n",
              "124262.0                       1998\n",
              "1400001772.0                   5080\n",
              "1400001776.0                   5080\n",
              "1400001787.0                   5081\n",
              "1400001788.0                   5081\n",
              "dtype: int64"
            ]
          },
          "metadata": {},
          "execution_count": 140
        }
      ]
    },
    {
      "cell_type": "code",
      "source": [
        "#Out of the 34597 people, 33328 of them didn't answer the question 124257: "
      ],
      "metadata": {
        "id": "d0ySn9Wwm-SC"
      },
      "execution_count": null,
      "outputs": []
    }
  ]
}